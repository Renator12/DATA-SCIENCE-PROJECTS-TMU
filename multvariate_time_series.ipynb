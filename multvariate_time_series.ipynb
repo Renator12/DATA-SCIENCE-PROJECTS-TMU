{
  "cells": [
    {
      "cell_type": "markdown",
      "metadata": {
        "id": "view-in-github",
        "colab_type": "text"
      },
      "source": [
        "<a href=\"https://colab.research.google.com/github/Renator12/DATA-SCIENCE-PROJECTS-TMU/blob/main/multvariate_time_series.ipynb\" target=\"_parent\"><img src=\"https://colab.research.google.com/assets/colab-badge.svg\" alt=\"Open In Colab\"/></a>"
      ]
    },
    {
      "cell_type": "code",
      "execution_count": null,
      "id": "1d743aba",
      "metadata": {
        "colab": {
          "base_uri": "https://localhost:8080/"
        },
        "id": "1d743aba",
        "outputId": "628f075c-8b08-4df9-cad3-993b23c77a91"
      },
      "outputs": [
        {
          "output_type": "stream",
          "name": "stdout",
          "text": [
            "Requirement already satisfied: xgboost in /usr/local/lib/python3.10/dist-packages (2.1.1)\n",
            "Requirement already satisfied: numpy in /usr/local/lib/python3.10/dist-packages (from xgboost) (1.26.4)\n",
            "Requirement already satisfied: nvidia-nccl-cu12 in /usr/local/lib/python3.10/dist-packages (from xgboost) (2.23.4)\n",
            "Requirement already satisfied: scipy in /usr/local/lib/python3.10/dist-packages (from xgboost) (1.13.1)\n"
          ]
        }
      ],
      "source": [
        "!pip install xgboost"
      ]
    },
    {
      "cell_type": "code",
      "execution_count": null,
      "id": "583d7910",
      "metadata": {
        "colab": {
          "base_uri": "https://localhost:8080/"
        },
        "id": "583d7910",
        "outputId": "971e41fc-e205-41df-c9f1-864b37e3f2c4"
      },
      "outputs": [
        {
          "output_type": "stream",
          "name": "stdout",
          "text": [
            "Requirement already satisfied: lightgbm in /usr/local/lib/python3.10/dist-packages (4.5.0)\n",
            "Requirement already satisfied: numpy>=1.17.0 in /usr/local/lib/python3.10/dist-packages (from lightgbm) (1.26.4)\n",
            "Requirement already satisfied: scipy in /usr/local/lib/python3.10/dist-packages (from lightgbm) (1.13.1)\n"
          ]
        }
      ],
      "source": [
        "!pip install lightgbm"
      ]
    },
    {
      "cell_type": "code",
      "execution_count": null,
      "id": "1bfd7530",
      "metadata": {
        "colab": {
          "base_uri": "https://localhost:8080/"
        },
        "id": "1bfd7530",
        "outputId": "3c0f712f-9457-4686-a13f-b0eb39a3a080"
      },
      "outputs": [
        {
          "output_type": "stream",
          "name": "stdout",
          "text": [
            "Requirement already satisfied: statsmodels in /usr/local/lib/python3.10/dist-packages (0.14.3)\n",
            "Requirement already satisfied: numpy<3,>=1.22.3 in /usr/local/lib/python3.10/dist-packages (from statsmodels) (1.26.4)\n",
            "Requirement already satisfied: scipy!=1.9.2,>=1.8 in /usr/local/lib/python3.10/dist-packages (from statsmodels) (1.13.1)\n",
            "Requirement already satisfied: pandas!=2.1.0,>=1.4 in /usr/local/lib/python3.10/dist-packages (from statsmodels) (2.1.4)\n",
            "Requirement already satisfied: patsy>=0.5.6 in /usr/local/lib/python3.10/dist-packages (from statsmodels) (0.5.6)\n",
            "Requirement already satisfied: packaging>=21.3 in /usr/local/lib/python3.10/dist-packages (from statsmodels) (24.1)\n",
            "Requirement already satisfied: python-dateutil>=2.8.2 in /usr/local/lib/python3.10/dist-packages (from pandas!=2.1.0,>=1.4->statsmodels) (2.8.2)\n",
            "Requirement already satisfied: pytz>=2020.1 in /usr/local/lib/python3.10/dist-packages (from pandas!=2.1.0,>=1.4->statsmodels) (2024.2)\n",
            "Requirement already satisfied: tzdata>=2022.1 in /usr/local/lib/python3.10/dist-packages (from pandas!=2.1.0,>=1.4->statsmodels) (2024.1)\n",
            "Requirement already satisfied: six in /usr/local/lib/python3.10/dist-packages (from patsy>=0.5.6->statsmodels) (1.16.0)\n"
          ]
        }
      ],
      "source": [
        "!pip install statsmodels\n"
      ]
    },
    {
      "cell_type": "code",
      "source": [
        "from google.colab import files\n",
        "uploaded = files.upload()"
      ],
      "metadata": {
        "colab": {
          "base_uri": "https://localhost:8080/",
          "height": 107
        },
        "id": "shR_BP5pmK80",
        "outputId": "cca2001d-3831-47f6-d6cf-a25b0e45efe4"
      },
      "id": "shR_BP5pmK80",
      "execution_count": null,
      "outputs": [
        {
          "output_type": "display_data",
          "data": {
            "text/plain": [
              "<IPython.core.display.HTML object>"
            ],
            "text/html": [
              "\n",
              "     <input type=\"file\" id=\"files-333afd64-afb7-4ee0-af58-a85fad6d190d\" name=\"files[]\" multiple disabled\n",
              "        style=\"border:none\" />\n",
              "     <output id=\"result-333afd64-afb7-4ee0-af58-a85fad6d190d\">\n",
              "      Upload widget is only available when the cell has been executed in the\n",
              "      current browser session. Please rerun this cell to enable.\n",
              "      </output>\n",
              "      <script>// Copyright 2017 Google LLC\n",
              "//\n",
              "// Licensed under the Apache License, Version 2.0 (the \"License\");\n",
              "// you may not use this file except in compliance with the License.\n",
              "// You may obtain a copy of the License at\n",
              "//\n",
              "//      http://www.apache.org/licenses/LICENSE-2.0\n",
              "//\n",
              "// Unless required by applicable law or agreed to in writing, software\n",
              "// distributed under the License is distributed on an \"AS IS\" BASIS,\n",
              "// WITHOUT WARRANTIES OR CONDITIONS OF ANY KIND, either express or implied.\n",
              "// See the License for the specific language governing permissions and\n",
              "// limitations under the License.\n",
              "\n",
              "/**\n",
              " * @fileoverview Helpers for google.colab Python module.\n",
              " */\n",
              "(function(scope) {\n",
              "function span(text, styleAttributes = {}) {\n",
              "  const element = document.createElement('span');\n",
              "  element.textContent = text;\n",
              "  for (const key of Object.keys(styleAttributes)) {\n",
              "    element.style[key] = styleAttributes[key];\n",
              "  }\n",
              "  return element;\n",
              "}\n",
              "\n",
              "// Max number of bytes which will be uploaded at a time.\n",
              "const MAX_PAYLOAD_SIZE = 100 * 1024;\n",
              "\n",
              "function _uploadFiles(inputId, outputId) {\n",
              "  const steps = uploadFilesStep(inputId, outputId);\n",
              "  const outputElement = document.getElementById(outputId);\n",
              "  // Cache steps on the outputElement to make it available for the next call\n",
              "  // to uploadFilesContinue from Python.\n",
              "  outputElement.steps = steps;\n",
              "\n",
              "  return _uploadFilesContinue(outputId);\n",
              "}\n",
              "\n",
              "// This is roughly an async generator (not supported in the browser yet),\n",
              "// where there are multiple asynchronous steps and the Python side is going\n",
              "// to poll for completion of each step.\n",
              "// This uses a Promise to block the python side on completion of each step,\n",
              "// then passes the result of the previous step as the input to the next step.\n",
              "function _uploadFilesContinue(outputId) {\n",
              "  const outputElement = document.getElementById(outputId);\n",
              "  const steps = outputElement.steps;\n",
              "\n",
              "  const next = steps.next(outputElement.lastPromiseValue);\n",
              "  return Promise.resolve(next.value.promise).then((value) => {\n",
              "    // Cache the last promise value to make it available to the next\n",
              "    // step of the generator.\n",
              "    outputElement.lastPromiseValue = value;\n",
              "    return next.value.response;\n",
              "  });\n",
              "}\n",
              "\n",
              "/**\n",
              " * Generator function which is called between each async step of the upload\n",
              " * process.\n",
              " * @param {string} inputId Element ID of the input file picker element.\n",
              " * @param {string} outputId Element ID of the output display.\n",
              " * @return {!Iterable<!Object>} Iterable of next steps.\n",
              " */\n",
              "function* uploadFilesStep(inputId, outputId) {\n",
              "  const inputElement = document.getElementById(inputId);\n",
              "  inputElement.disabled = false;\n",
              "\n",
              "  const outputElement = document.getElementById(outputId);\n",
              "  outputElement.innerHTML = '';\n",
              "\n",
              "  const pickedPromise = new Promise((resolve) => {\n",
              "    inputElement.addEventListener('change', (e) => {\n",
              "      resolve(e.target.files);\n",
              "    });\n",
              "  });\n",
              "\n",
              "  const cancel = document.createElement('button');\n",
              "  inputElement.parentElement.appendChild(cancel);\n",
              "  cancel.textContent = 'Cancel upload';\n",
              "  const cancelPromise = new Promise((resolve) => {\n",
              "    cancel.onclick = () => {\n",
              "      resolve(null);\n",
              "    };\n",
              "  });\n",
              "\n",
              "  // Wait for the user to pick the files.\n",
              "  const files = yield {\n",
              "    promise: Promise.race([pickedPromise, cancelPromise]),\n",
              "    response: {\n",
              "      action: 'starting',\n",
              "    }\n",
              "  };\n",
              "\n",
              "  cancel.remove();\n",
              "\n",
              "  // Disable the input element since further picks are not allowed.\n",
              "  inputElement.disabled = true;\n",
              "\n",
              "  if (!files) {\n",
              "    return {\n",
              "      response: {\n",
              "        action: 'complete',\n",
              "      }\n",
              "    };\n",
              "  }\n",
              "\n",
              "  for (const file of files) {\n",
              "    const li = document.createElement('li');\n",
              "    li.append(span(file.name, {fontWeight: 'bold'}));\n",
              "    li.append(span(\n",
              "        `(${file.type || 'n/a'}) - ${file.size} bytes, ` +\n",
              "        `last modified: ${\n",
              "            file.lastModifiedDate ? file.lastModifiedDate.toLocaleDateString() :\n",
              "                                    'n/a'} - `));\n",
              "    const percent = span('0% done');\n",
              "    li.appendChild(percent);\n",
              "\n",
              "    outputElement.appendChild(li);\n",
              "\n",
              "    const fileDataPromise = new Promise((resolve) => {\n",
              "      const reader = new FileReader();\n",
              "      reader.onload = (e) => {\n",
              "        resolve(e.target.result);\n",
              "      };\n",
              "      reader.readAsArrayBuffer(file);\n",
              "    });\n",
              "    // Wait for the data to be ready.\n",
              "    let fileData = yield {\n",
              "      promise: fileDataPromise,\n",
              "      response: {\n",
              "        action: 'continue',\n",
              "      }\n",
              "    };\n",
              "\n",
              "    // Use a chunked sending to avoid message size limits. See b/62115660.\n",
              "    let position = 0;\n",
              "    do {\n",
              "      const length = Math.min(fileData.byteLength - position, MAX_PAYLOAD_SIZE);\n",
              "      const chunk = new Uint8Array(fileData, position, length);\n",
              "      position += length;\n",
              "\n",
              "      const base64 = btoa(String.fromCharCode.apply(null, chunk));\n",
              "      yield {\n",
              "        response: {\n",
              "          action: 'append',\n",
              "          file: file.name,\n",
              "          data: base64,\n",
              "        },\n",
              "      };\n",
              "\n",
              "      let percentDone = fileData.byteLength === 0 ?\n",
              "          100 :\n",
              "          Math.round((position / fileData.byteLength) * 100);\n",
              "      percent.textContent = `${percentDone}% done`;\n",
              "\n",
              "    } while (position < fileData.byteLength);\n",
              "  }\n",
              "\n",
              "  // All done.\n",
              "  yield {\n",
              "    response: {\n",
              "      action: 'complete',\n",
              "    }\n",
              "  };\n",
              "}\n",
              "\n",
              "scope.google = scope.google || {};\n",
              "scope.google.colab = scope.google.colab || {};\n",
              "scope.google.colab._files = {\n",
              "  _uploadFiles,\n",
              "  _uploadFilesContinue,\n",
              "};\n",
              "})(self);\n",
              "</script> "
            ]
          },
          "metadata": {}
        },
        {
          "output_type": "stream",
          "name": "stdout",
          "text": [
            "Saving park_visitation.csv to park_visitation (1).csv\n",
            "Saving weather_data.csv to weather_data (1).csv\n"
          ]
        }
      ]
    },
    {
      "cell_type": "code",
      "execution_count": null,
      "id": "8257d2db",
      "metadata": {
        "id": "8257d2db"
      },
      "outputs": [],
      "source": [
        "import  scipy.signal.signaltools\n",
        "\n",
        "def _centered(arr, newsize):\n",
        "    # Return the center newsize portion of the array.\n",
        "    newsize = np.asarray(newsize)\n",
        "    currsize = np.array(arr.shape)\n",
        "    startind = (currsize - newsize) // 2\n",
        "    endind = startind + newsize\n",
        "    myslice = [slice(startind[k], endind[k]) for k in range(len(endind))]\n",
        "    return arr[tuple(myslice)]\n",
        "\n",
        "scipy.signal.signaltools._centered = _centered"
      ]
    },
    {
      "cell_type": "code",
      "execution_count": null,
      "id": "6b2a197c",
      "metadata": {
        "id": "6b2a197c"
      },
      "outputs": [],
      "source": [
        "import sklearn\n",
        "import lightgbm as lgb\n",
        "import pandas as pd\n",
        "from pylab import rcParams\n",
        "import numpy as np\n",
        "import matplotlib.pyplot as plt\n",
        "import seaborn as sns\n",
        "from sklearn.tree import DecisionTreeClassifier\n",
        "import xgboost as xgb\n",
        "from sklearn.model_selection import train_test_split\n",
        "from sklearn.metrics import mean_squared_error\n",
        "from sklearn.ensemble import RandomForestClassifier\n",
        "from sklearn.metrics import r2_score\n",
        "from sklearn.model_selection import GridSearchCV\n",
        "from statsmodels.graphics.tsaplots import plot_acf\n",
        "from statsmodels.tsa.seasonal import seasonal_decompose\n",
        "from statsmodels.tsa.stattools import adfuller\n",
        "from statsmodels.tsa.arima.model import ARIMA\n",
        "from sklearn.metrics import mean_absolute_error as mae"
      ]
    },
    {
      "cell_type": "code",
      "execution_count": null,
      "id": "0a293972",
      "metadata": {
        "id": "0a293972"
      },
      "outputs": [],
      "source": [
        "rcParams['figure.figsize']=12,5"
      ]
    },
    {
      "cell_type": "markdown",
      "id": "01631a4a",
      "metadata": {
        "id": "01631a4a"
      },
      "source": [
        "# Goal:Analyze the weather data and find insights that could help predict visitation patterns at a park.\n"
      ]
    },
    {
      "cell_type": "markdown",
      "id": "a72feeb9",
      "metadata": {
        "id": "a72feeb9"
      },
      "source": [
        "### We are tackling a multivariate time series forecasting problem. Our approach will concentrate on feature engineering with weather data to identify seasonal patterns and incorporate features based on it (e.g., a seasonal feature). Additionally, we will include lag values since today's number of visitors is likely dependent on yesterday's count (not independent). We will also address null values and manage the large number of features by removing them accordingly."
      ]
    },
    {
      "cell_type": "markdown",
      "id": "4081f667",
      "metadata": {
        "id": "4081f667"
      },
      "source": [
        "##### FORECASTING MODELS WILL FOCUS ON USING TREE BASED REGRESSION WITH BOOSTING AND ENSEMBLES AND A METRIC OF Mean absolute error for performance.\n",
        "MAE is better suited for forecasting evaluations when robustness to outliers is paramount, as it treats all errors equally without squaring them. Its simplicity and interpretability make it a preferred choice when communicating forecasting performance, especially in scenarios where outliers can heavily skew results or when equal weighting of errors is desired."
      ]
    },
    {
      "cell_type": "markdown",
      "id": "2e061257",
      "metadata": {
        "id": "2e061257"
      },
      "source": [
        "\n",
        "      \n",
        "      "
      ]
    },
    {
      "cell_type": "code",
      "execution_count": null,
      "id": "46e6e6c0",
      "metadata": {
        "id": "46e6e6c0"
      },
      "outputs": [],
      "source": [
        "park_visits=pd.read_csv('park_visitation.csv') #read csv's\n",
        "weather_data=pd.read_csv('weather_data.csv')"
      ]
    },
    {
      "cell_type": "markdown",
      "id": "4cb00ede",
      "metadata": {
        "id": "4cb00ede"
      },
      "source": [
        "# DATASET STRUCTURE ANALYSIS"
      ]
    },
    {
      "cell_type": "code",
      "execution_count": null,
      "id": "0a65d981",
      "metadata": {
        "colab": {
          "base_uri": "https://localhost:8080/"
        },
        "id": "0a65d981",
        "outputId": "bc3736f6-f608-406c-a475-9ccb2f5bb58d"
      },
      "outputs": [
        {
          "output_type": "execute_result",
          "data": {
            "text/plain": [
              "1096"
            ]
          },
          "metadata": {},
          "execution_count": 19
        }
      ],
      "source": [
        "weather_data_cols=set(weather_data.columns) #exploring weather_data columns\n",
        "len(weather_data)"
      ]
    },
    {
      "cell_type": "code",
      "execution_count": null,
      "id": "5c60143d",
      "metadata": {
        "colab": {
          "base_uri": "https://localhost:8080/",
          "height": 458
        },
        "id": "5c60143d",
        "outputId": "322336dd-fcd6-48e6-eea9-720724bcf69f"
      },
      "outputs": [
        {
          "output_type": "execute_result",
          "data": {
            "text/plain": [
              "0      NaN\n",
              "1      NaN\n",
              "2      NaN\n",
              "3      NaN\n",
              "4      NaN\n",
              "        ..\n",
              "1091   NaN\n",
              "1092   NaN\n",
              "1093   NaN\n",
              "1094   NaN\n",
              "1095   NaN\n",
              "Name: TEMPERATURE_HEAT_INDEX_24HR_DEP, Length: 1096, dtype: float64"
            ],
            "text/html": [
              "<div>\n",
              "<style scoped>\n",
              "    .dataframe tbody tr th:only-of-type {\n",
              "        vertical-align: middle;\n",
              "    }\n",
              "\n",
              "    .dataframe tbody tr th {\n",
              "        vertical-align: top;\n",
              "    }\n",
              "\n",
              "    .dataframe thead th {\n",
              "        text-align: right;\n",
              "    }\n",
              "</style>\n",
              "<table border=\"1\" class=\"dataframe\">\n",
              "  <thead>\n",
              "    <tr style=\"text-align: right;\">\n",
              "      <th></th>\n",
              "      <th>TEMPERATURE_HEAT_INDEX_24HR_DEP</th>\n",
              "    </tr>\n",
              "  </thead>\n",
              "  <tbody>\n",
              "    <tr>\n",
              "      <th>0</th>\n",
              "      <td>NaN</td>\n",
              "    </tr>\n",
              "    <tr>\n",
              "      <th>1</th>\n",
              "      <td>NaN</td>\n",
              "    </tr>\n",
              "    <tr>\n",
              "      <th>2</th>\n",
              "      <td>NaN</td>\n",
              "    </tr>\n",
              "    <tr>\n",
              "      <th>3</th>\n",
              "      <td>NaN</td>\n",
              "    </tr>\n",
              "    <tr>\n",
              "      <th>4</th>\n",
              "      <td>NaN</td>\n",
              "    </tr>\n",
              "    <tr>\n",
              "      <th>...</th>\n",
              "      <td>...</td>\n",
              "    </tr>\n",
              "    <tr>\n",
              "      <th>1091</th>\n",
              "      <td>NaN</td>\n",
              "    </tr>\n",
              "    <tr>\n",
              "      <th>1092</th>\n",
              "      <td>NaN</td>\n",
              "    </tr>\n",
              "    <tr>\n",
              "      <th>1093</th>\n",
              "      <td>NaN</td>\n",
              "    </tr>\n",
              "    <tr>\n",
              "      <th>1094</th>\n",
              "      <td>NaN</td>\n",
              "    </tr>\n",
              "    <tr>\n",
              "      <th>1095</th>\n",
              "      <td>NaN</td>\n",
              "    </tr>\n",
              "  </tbody>\n",
              "</table>\n",
              "<p>1096 rows × 1 columns</p>\n",
              "</div><br><label><b>dtype:</b> float64</label>"
            ]
          },
          "metadata": {},
          "execution_count": 20
        }
      ],
      "source": [
        "weather_data['TEMPERATURE_HEAT_INDEX_24HR_DEP'] #lot of empty nulls in this feature.lets explore this null issue more"
      ]
    },
    {
      "cell_type": "code",
      "execution_count": null,
      "id": "36cd64e3",
      "metadata": {
        "colab": {
          "base_uri": "https://localhost:8080/",
          "height": 342
        },
        "id": "36cd64e3",
        "outputId": "7fb5999a-1f6e-4a61-8884-8714c6cd8012"
      },
      "outputs": [
        {
          "output_type": "execute_result",
          "data": {
            "text/plain": [
              "         DATE  CLOUD_BASE_HEIGHT_24HR_DEP  CLOUD_BASE_HEIGHT_AVG  \\\n",
              "0  2021-03-13                       -1376                 1063.0   \n",
              "1  2021-03-14                         255                 1318.0   \n",
              "2  2021-03-15                        7448                 8767.0   \n",
              "3  2021-03-16                       -6705                 2061.0   \n",
              "4  2021-03-17                         639                 2700.0   \n",
              "\n",
              "   CLOUD_BASE_HEIGHT_MAX  CLOUD_BASE_HEIGHT_MIN  CLOUD_COVER_24HR_DEP  \\\n",
              "0                 1063.0                 1063.0                 -0.01   \n",
              "1                 2482.0                  586.0                 -0.03   \n",
              "2                11406.0                 6184.0                  0.18   \n",
              "3                 5232.0                  424.0                  0.55   \n",
              "4                 7604.0                  680.0                 -0.07   \n",
              "\n",
              "   CLOUD_COVER_AVG  CLOUD_COVER_MAX  CLOUD_COVER_MIN  \\\n",
              "0             0.18             0.74             0.00   \n",
              "1             0.15             0.85             0.00   \n",
              "2             0.33             1.00             0.00   \n",
              "3             0.88             1.00             0.45   \n",
              "4             0.81             1.00             0.47   \n",
              "\n",
              "   CLOUD_COVER_PERC_24HR_DEP  ...  WIND_GUST_MAX  WIND_GUST_MIN  \\\n",
              "0                         -1  ...          11.63           4.30   \n",
              "1                         -2  ...          15.89           5.55   \n",
              "2                         18  ...          10.45           5.42   \n",
              "3                         55  ...          11.48           3.11   \n",
              "4                         -7  ...           6.18           2.49   \n",
              "\n",
              "   WIND_GUST_INSTANTANEOUS_24HR_DEP  WIND_GUST_INSTANTANEOUS_AVG  \\\n",
              "0                             -2.40                         8.19   \n",
              "1                              3.20                        11.39   \n",
              "2                             -3.89                         7.50   \n",
              "3                              0.81                         8.30   \n",
              "4                             -4.54                         3.76   \n",
              "\n",
              "   WIND_GUST_INSTANTANEOUS_MAX  WIND_GUST_INSTANTANEOUS_MIN  \\\n",
              "0                        10.84                         3.73   \n",
              "1                        15.75                         5.44   \n",
              "2                        10.47                         5.12   \n",
              "3                        11.20                         2.88   \n",
              "4                         6.07                         2.06   \n",
              "\n",
              "   WIND_SPEED_24HR_DEP  WIND_SPEED_AVG  WIND_SPEED_MAX WIND_SPEED_MIN  \n",
              "0                -1.51            5.11            7.44           2.27  \n",
              "1                 1.90            7.00            9.30           3.81  \n",
              "2                -2.68            4.32            6.52           2.04  \n",
              "3                 1.16            5.48            7.33           2.03  \n",
              "4                -3.43            2.05            3.03           1.30  \n",
              "\n",
              "[5 rows x 167 columns]"
            ],
            "text/html": [
              "\n",
              "  <div id=\"df-4424f19a-867f-4c6a-923b-20d3c882b067\" class=\"colab-df-container\">\n",
              "    <div>\n",
              "<style scoped>\n",
              "    .dataframe tbody tr th:only-of-type {\n",
              "        vertical-align: middle;\n",
              "    }\n",
              "\n",
              "    .dataframe tbody tr th {\n",
              "        vertical-align: top;\n",
              "    }\n",
              "\n",
              "    .dataframe thead th {\n",
              "        text-align: right;\n",
              "    }\n",
              "</style>\n",
              "<table border=\"1\" class=\"dataframe\">\n",
              "  <thead>\n",
              "    <tr style=\"text-align: right;\">\n",
              "      <th></th>\n",
              "      <th>DATE</th>\n",
              "      <th>CLOUD_BASE_HEIGHT_24HR_DEP</th>\n",
              "      <th>CLOUD_BASE_HEIGHT_AVG</th>\n",
              "      <th>CLOUD_BASE_HEIGHT_MAX</th>\n",
              "      <th>CLOUD_BASE_HEIGHT_MIN</th>\n",
              "      <th>CLOUD_COVER_24HR_DEP</th>\n",
              "      <th>CLOUD_COVER_AVG</th>\n",
              "      <th>CLOUD_COVER_MAX</th>\n",
              "      <th>CLOUD_COVER_MIN</th>\n",
              "      <th>CLOUD_COVER_PERC_24HR_DEP</th>\n",
              "      <th>...</th>\n",
              "      <th>WIND_GUST_MAX</th>\n",
              "      <th>WIND_GUST_MIN</th>\n",
              "      <th>WIND_GUST_INSTANTANEOUS_24HR_DEP</th>\n",
              "      <th>WIND_GUST_INSTANTANEOUS_AVG</th>\n",
              "      <th>WIND_GUST_INSTANTANEOUS_MAX</th>\n",
              "      <th>WIND_GUST_INSTANTANEOUS_MIN</th>\n",
              "      <th>WIND_SPEED_24HR_DEP</th>\n",
              "      <th>WIND_SPEED_AVG</th>\n",
              "      <th>WIND_SPEED_MAX</th>\n",
              "      <th>WIND_SPEED_MIN</th>\n",
              "    </tr>\n",
              "  </thead>\n",
              "  <tbody>\n",
              "    <tr>\n",
              "      <th>0</th>\n",
              "      <td>2021-03-13</td>\n",
              "      <td>-1376</td>\n",
              "      <td>1063.0</td>\n",
              "      <td>1063.0</td>\n",
              "      <td>1063.0</td>\n",
              "      <td>-0.01</td>\n",
              "      <td>0.18</td>\n",
              "      <td>0.74</td>\n",
              "      <td>0.00</td>\n",
              "      <td>-1</td>\n",
              "      <td>...</td>\n",
              "      <td>11.63</td>\n",
              "      <td>4.30</td>\n",
              "      <td>-2.40</td>\n",
              "      <td>8.19</td>\n",
              "      <td>10.84</td>\n",
              "      <td>3.73</td>\n",
              "      <td>-1.51</td>\n",
              "      <td>5.11</td>\n",
              "      <td>7.44</td>\n",
              "      <td>2.27</td>\n",
              "    </tr>\n",
              "    <tr>\n",
              "      <th>1</th>\n",
              "      <td>2021-03-14</td>\n",
              "      <td>255</td>\n",
              "      <td>1318.0</td>\n",
              "      <td>2482.0</td>\n",
              "      <td>586.0</td>\n",
              "      <td>-0.03</td>\n",
              "      <td>0.15</td>\n",
              "      <td>0.85</td>\n",
              "      <td>0.00</td>\n",
              "      <td>-2</td>\n",
              "      <td>...</td>\n",
              "      <td>15.89</td>\n",
              "      <td>5.55</td>\n",
              "      <td>3.20</td>\n",
              "      <td>11.39</td>\n",
              "      <td>15.75</td>\n",
              "      <td>5.44</td>\n",
              "      <td>1.90</td>\n",
              "      <td>7.00</td>\n",
              "      <td>9.30</td>\n",
              "      <td>3.81</td>\n",
              "    </tr>\n",
              "    <tr>\n",
              "      <th>2</th>\n",
              "      <td>2021-03-15</td>\n",
              "      <td>7448</td>\n",
              "      <td>8767.0</td>\n",
              "      <td>11406.0</td>\n",
              "      <td>6184.0</td>\n",
              "      <td>0.18</td>\n",
              "      <td>0.33</td>\n",
              "      <td>1.00</td>\n",
              "      <td>0.00</td>\n",
              "      <td>18</td>\n",
              "      <td>...</td>\n",
              "      <td>10.45</td>\n",
              "      <td>5.42</td>\n",
              "      <td>-3.89</td>\n",
              "      <td>7.50</td>\n",
              "      <td>10.47</td>\n",
              "      <td>5.12</td>\n",
              "      <td>-2.68</td>\n",
              "      <td>4.32</td>\n",
              "      <td>6.52</td>\n",
              "      <td>2.04</td>\n",
              "    </tr>\n",
              "    <tr>\n",
              "      <th>3</th>\n",
              "      <td>2021-03-16</td>\n",
              "      <td>-6705</td>\n",
              "      <td>2061.0</td>\n",
              "      <td>5232.0</td>\n",
              "      <td>424.0</td>\n",
              "      <td>0.55</td>\n",
              "      <td>0.88</td>\n",
              "      <td>1.00</td>\n",
              "      <td>0.45</td>\n",
              "      <td>55</td>\n",
              "      <td>...</td>\n",
              "      <td>11.48</td>\n",
              "      <td>3.11</td>\n",
              "      <td>0.81</td>\n",
              "      <td>8.30</td>\n",
              "      <td>11.20</td>\n",
              "      <td>2.88</td>\n",
              "      <td>1.16</td>\n",
              "      <td>5.48</td>\n",
              "      <td>7.33</td>\n",
              "      <td>2.03</td>\n",
              "    </tr>\n",
              "    <tr>\n",
              "      <th>4</th>\n",
              "      <td>2021-03-17</td>\n",
              "      <td>639</td>\n",
              "      <td>2700.0</td>\n",
              "      <td>7604.0</td>\n",
              "      <td>680.0</td>\n",
              "      <td>-0.07</td>\n",
              "      <td>0.81</td>\n",
              "      <td>1.00</td>\n",
              "      <td>0.47</td>\n",
              "      <td>-7</td>\n",
              "      <td>...</td>\n",
              "      <td>6.18</td>\n",
              "      <td>2.49</td>\n",
              "      <td>-4.54</td>\n",
              "      <td>3.76</td>\n",
              "      <td>6.07</td>\n",
              "      <td>2.06</td>\n",
              "      <td>-3.43</td>\n",
              "      <td>2.05</td>\n",
              "      <td>3.03</td>\n",
              "      <td>1.30</td>\n",
              "    </tr>\n",
              "  </tbody>\n",
              "</table>\n",
              "<p>5 rows × 167 columns</p>\n",
              "</div>\n",
              "    <div class=\"colab-df-buttons\">\n",
              "\n",
              "  <div class=\"colab-df-container\">\n",
              "    <button class=\"colab-df-convert\" onclick=\"convertToInteractive('df-4424f19a-867f-4c6a-923b-20d3c882b067')\"\n",
              "            title=\"Convert this dataframe to an interactive table.\"\n",
              "            style=\"display:none;\">\n",
              "\n",
              "  <svg xmlns=\"http://www.w3.org/2000/svg\" height=\"24px\" viewBox=\"0 -960 960 960\">\n",
              "    <path d=\"M120-120v-720h720v720H120Zm60-500h600v-160H180v160Zm220 220h160v-160H400v160Zm0 220h160v-160H400v160ZM180-400h160v-160H180v160Zm440 0h160v-160H620v160ZM180-180h160v-160H180v160Zm440 0h160v-160H620v160Z\"/>\n",
              "  </svg>\n",
              "    </button>\n",
              "\n",
              "  <style>\n",
              "    .colab-df-container {\n",
              "      display:flex;\n",
              "      gap: 12px;\n",
              "    }\n",
              "\n",
              "    .colab-df-convert {\n",
              "      background-color: #E8F0FE;\n",
              "      border: none;\n",
              "      border-radius: 50%;\n",
              "      cursor: pointer;\n",
              "      display: none;\n",
              "      fill: #1967D2;\n",
              "      height: 32px;\n",
              "      padding: 0 0 0 0;\n",
              "      width: 32px;\n",
              "    }\n",
              "\n",
              "    .colab-df-convert:hover {\n",
              "      background-color: #E2EBFA;\n",
              "      box-shadow: 0px 1px 2px rgba(60, 64, 67, 0.3), 0px 1px 3px 1px rgba(60, 64, 67, 0.15);\n",
              "      fill: #174EA6;\n",
              "    }\n",
              "\n",
              "    .colab-df-buttons div {\n",
              "      margin-bottom: 4px;\n",
              "    }\n",
              "\n",
              "    [theme=dark] .colab-df-convert {\n",
              "      background-color: #3B4455;\n",
              "      fill: #D2E3FC;\n",
              "    }\n",
              "\n",
              "    [theme=dark] .colab-df-convert:hover {\n",
              "      background-color: #434B5C;\n",
              "      box-shadow: 0px 1px 3px 1px rgba(0, 0, 0, 0.15);\n",
              "      filter: drop-shadow(0px 1px 2px rgba(0, 0, 0, 0.3));\n",
              "      fill: #FFFFFF;\n",
              "    }\n",
              "  </style>\n",
              "\n",
              "    <script>\n",
              "      const buttonEl =\n",
              "        document.querySelector('#df-4424f19a-867f-4c6a-923b-20d3c882b067 button.colab-df-convert');\n",
              "      buttonEl.style.display =\n",
              "        google.colab.kernel.accessAllowed ? 'block' : 'none';\n",
              "\n",
              "      async function convertToInteractive(key) {\n",
              "        const element = document.querySelector('#df-4424f19a-867f-4c6a-923b-20d3c882b067');\n",
              "        const dataTable =\n",
              "          await google.colab.kernel.invokeFunction('convertToInteractive',\n",
              "                                                    [key], {});\n",
              "        if (!dataTable) return;\n",
              "\n",
              "        const docLinkHtml = 'Like what you see? Visit the ' +\n",
              "          '<a target=\"_blank\" href=https://colab.research.google.com/notebooks/data_table.ipynb>data table notebook</a>'\n",
              "          + ' to learn more about interactive tables.';\n",
              "        element.innerHTML = '';\n",
              "        dataTable['output_type'] = 'display_data';\n",
              "        await google.colab.output.renderOutput(dataTable, element);\n",
              "        const docLink = document.createElement('div');\n",
              "        docLink.innerHTML = docLinkHtml;\n",
              "        element.appendChild(docLink);\n",
              "      }\n",
              "    </script>\n",
              "  </div>\n",
              "\n",
              "\n",
              "<div id=\"df-8c00feef-2ad7-4474-970a-d6e2577b7252\">\n",
              "  <button class=\"colab-df-quickchart\" onclick=\"quickchart('df-8c00feef-2ad7-4474-970a-d6e2577b7252')\"\n",
              "            title=\"Suggest charts\"\n",
              "            style=\"display:none;\">\n",
              "\n",
              "<svg xmlns=\"http://www.w3.org/2000/svg\" height=\"24px\"viewBox=\"0 0 24 24\"\n",
              "     width=\"24px\">\n",
              "    <g>\n",
              "        <path d=\"M19 3H5c-1.1 0-2 .9-2 2v14c0 1.1.9 2 2 2h14c1.1 0 2-.9 2-2V5c0-1.1-.9-2-2-2zM9 17H7v-7h2v7zm4 0h-2V7h2v10zm4 0h-2v-4h2v4z\"/>\n",
              "    </g>\n",
              "</svg>\n",
              "  </button>\n",
              "\n",
              "<style>\n",
              "  .colab-df-quickchart {\n",
              "      --bg-color: #E8F0FE;\n",
              "      --fill-color: #1967D2;\n",
              "      --hover-bg-color: #E2EBFA;\n",
              "      --hover-fill-color: #174EA6;\n",
              "      --disabled-fill-color: #AAA;\n",
              "      --disabled-bg-color: #DDD;\n",
              "  }\n",
              "\n",
              "  [theme=dark] .colab-df-quickchart {\n",
              "      --bg-color: #3B4455;\n",
              "      --fill-color: #D2E3FC;\n",
              "      --hover-bg-color: #434B5C;\n",
              "      --hover-fill-color: #FFFFFF;\n",
              "      --disabled-bg-color: #3B4455;\n",
              "      --disabled-fill-color: #666;\n",
              "  }\n",
              "\n",
              "  .colab-df-quickchart {\n",
              "    background-color: var(--bg-color);\n",
              "    border: none;\n",
              "    border-radius: 50%;\n",
              "    cursor: pointer;\n",
              "    display: none;\n",
              "    fill: var(--fill-color);\n",
              "    height: 32px;\n",
              "    padding: 0;\n",
              "    width: 32px;\n",
              "  }\n",
              "\n",
              "  .colab-df-quickchart:hover {\n",
              "    background-color: var(--hover-bg-color);\n",
              "    box-shadow: 0 1px 2px rgba(60, 64, 67, 0.3), 0 1px 3px 1px rgba(60, 64, 67, 0.15);\n",
              "    fill: var(--button-hover-fill-color);\n",
              "  }\n",
              "\n",
              "  .colab-df-quickchart-complete:disabled,\n",
              "  .colab-df-quickchart-complete:disabled:hover {\n",
              "    background-color: var(--disabled-bg-color);\n",
              "    fill: var(--disabled-fill-color);\n",
              "    box-shadow: none;\n",
              "  }\n",
              "\n",
              "  .colab-df-spinner {\n",
              "    border: 2px solid var(--fill-color);\n",
              "    border-color: transparent;\n",
              "    border-bottom-color: var(--fill-color);\n",
              "    animation:\n",
              "      spin 1s steps(1) infinite;\n",
              "  }\n",
              "\n",
              "  @keyframes spin {\n",
              "    0% {\n",
              "      border-color: transparent;\n",
              "      border-bottom-color: var(--fill-color);\n",
              "      border-left-color: var(--fill-color);\n",
              "    }\n",
              "    20% {\n",
              "      border-color: transparent;\n",
              "      border-left-color: var(--fill-color);\n",
              "      border-top-color: var(--fill-color);\n",
              "    }\n",
              "    30% {\n",
              "      border-color: transparent;\n",
              "      border-left-color: var(--fill-color);\n",
              "      border-top-color: var(--fill-color);\n",
              "      border-right-color: var(--fill-color);\n",
              "    }\n",
              "    40% {\n",
              "      border-color: transparent;\n",
              "      border-right-color: var(--fill-color);\n",
              "      border-top-color: var(--fill-color);\n",
              "    }\n",
              "    60% {\n",
              "      border-color: transparent;\n",
              "      border-right-color: var(--fill-color);\n",
              "    }\n",
              "    80% {\n",
              "      border-color: transparent;\n",
              "      border-right-color: var(--fill-color);\n",
              "      border-bottom-color: var(--fill-color);\n",
              "    }\n",
              "    90% {\n",
              "      border-color: transparent;\n",
              "      border-bottom-color: var(--fill-color);\n",
              "    }\n",
              "  }\n",
              "</style>\n",
              "\n",
              "  <script>\n",
              "    async function quickchart(key) {\n",
              "      const quickchartButtonEl =\n",
              "        document.querySelector('#' + key + ' button');\n",
              "      quickchartButtonEl.disabled = true;  // To prevent multiple clicks.\n",
              "      quickchartButtonEl.classList.add('colab-df-spinner');\n",
              "      try {\n",
              "        const charts = await google.colab.kernel.invokeFunction(\n",
              "            'suggestCharts', [key], {});\n",
              "      } catch (error) {\n",
              "        console.error('Error during call to suggestCharts:', error);\n",
              "      }\n",
              "      quickchartButtonEl.classList.remove('colab-df-spinner');\n",
              "      quickchartButtonEl.classList.add('colab-df-quickchart-complete');\n",
              "    }\n",
              "    (() => {\n",
              "      let quickchartButtonEl =\n",
              "        document.querySelector('#df-8c00feef-2ad7-4474-970a-d6e2577b7252 button');\n",
              "      quickchartButtonEl.style.display =\n",
              "        google.colab.kernel.accessAllowed ? 'block' : 'none';\n",
              "    })();\n",
              "  </script>\n",
              "</div>\n",
              "\n",
              "    </div>\n",
              "  </div>\n"
            ],
            "application/vnd.google.colaboratory.intrinsic+json": {
              "type": "dataframe",
              "variable_name": "weather_data"
            }
          },
          "metadata": {},
          "execution_count": 21
        }
      ],
      "source": [
        "#rename weather data date column from DATE_CALENDAR TO DATE\n",
        "weather_data.rename(columns={'DATE_CALENDAR': 'DATE'}, inplace=True)\n",
        "weather_data.head()"
      ]
    },
    {
      "cell_type": "code",
      "execution_count": null,
      "id": "7d9c7898",
      "metadata": {
        "colab": {
          "base_uri": "https://localhost:8080/"
        },
        "id": "7d9c7898",
        "outputId": "4093caa2-ad66-46f2-e88d-cc3d5f75a293"
      },
      "outputs": [
        {
          "output_type": "execute_result",
          "data": {
            "text/plain": [
              "['DATE',\n",
              " 'CLOUD_BASE_HEIGHT_24HR_DEP',\n",
              " 'CLOUD_BASE_HEIGHT_AVG',\n",
              " 'CLOUD_BASE_HEIGHT_MAX',\n",
              " 'CLOUD_BASE_HEIGHT_MIN',\n",
              " 'CLOUD_COVER_24HR_DEP',\n",
              " 'CLOUD_COVER_AVG',\n",
              " 'CLOUD_COVER_MAX',\n",
              " 'CLOUD_COVER_MIN',\n",
              " 'CLOUD_COVER_PERC_24HR_DEP',\n",
              " 'CLOUD_COVER_PERC_AVG',\n",
              " 'CLOUD_COVER_PERC_MAX',\n",
              " 'CLOUD_COVER_PERC_MIN',\n",
              " 'DEGREE_DAYS_COOLING',\n",
              " 'DEGREE_DAYS_EFFECTIVE',\n",
              " 'DEGREE_DAYS_FREEZING',\n",
              " 'DEGREE_DAYS_GROWING',\n",
              " 'DEGREE_DAYS_HEATING',\n",
              " 'EVAPOTRANSPIRATION_LWE_TOTAL',\n",
              " 'HAS_FREEZING_RAIN',\n",
              " 'FREEZING_RAIN_LWE_TOTAL',\n",
              " 'FREEZING_RAIN_LWE_RATE_AVG',\n",
              " 'FREEZING_RAIN_LWE_RATE_MAX',\n",
              " 'FREEZING_RAIN_LWE_RATE_MIN',\n",
              " 'HUMIDITY_RELATIVE_24HR_DEP',\n",
              " 'HUMIDITY_RELATIVE_AVG',\n",
              " 'HUMIDITY_RELATIVE_MAX',\n",
              " 'HUMIDITY_RELATIVE_MIN',\n",
              " 'HAS_ICE',\n",
              " 'ICE_LWE_TOTAL',\n",
              " 'ICE_LWE_RATE_AVG',\n",
              " 'ICE_LWE_RATE_MAX',\n",
              " 'ICE_LWE_RATE_MIN',\n",
              " 'INDEX_UV_24HR_DEP',\n",
              " 'INDEX_UV_AVG',\n",
              " 'INDEX_UV_MAX',\n",
              " 'INDEX_UV_MIN',\n",
              " 'MINUTES_OF_FREEZING_RAIN_TOTAL',\n",
              " 'MINUTES_OF_ICE_TOTAL',\n",
              " 'MINUTES_OF_PRECIPITATION_TOTAL',\n",
              " 'MINUTES_OF_RAIN_TOTAL',\n",
              " 'MINUTES_OF_SLEET_TOTAL',\n",
              " 'MINUTES_OF_SNOW_TOTAL',\n",
              " 'MINUTES_OF_SUN_TOTAL',\n",
              " 'MOISTURE_SOIL_AVG',\n",
              " 'MOISTURE_SOIL_MAX',\n",
              " 'MOISTURE_SOIL_MIN',\n",
              " 'HAS_PRECIPITATION',\n",
              " 'PRECIPITATION_INTENSITY_MAX',\n",
              " 'PRECIPITATION_LWE_TOTAL',\n",
              " 'PRECIPITATION_LWE_RATE_AVG',\n",
              " 'PRECIPITATION_LWE_RATE_MAX',\n",
              " 'PRECIPITATION_LWE_RATE_MIN',\n",
              " 'PRECIPITATION_TYPE_PREDOMINANT',\n",
              " 'PRECIPITATION_TYPE_DESC_PREDOMINANT',\n",
              " 'PRESSURE_24HR_DEP',\n",
              " 'PRESSURE_AVG',\n",
              " 'PRESSURE_MAX',\n",
              " 'PRESSURE_MIN',\n",
              " 'PRESSURE_MSL_24HR_DEP',\n",
              " 'PRESSURE_MSL_AVG',\n",
              " 'PRESSURE_MSL_MAX',\n",
              " 'PRESSURE_MSL_MIN',\n",
              " 'HAS_RAIN',\n",
              " 'RAIN_LWE_TOTAL',\n",
              " 'RAIN_LWE_RATE_AVG',\n",
              " 'RAIN_LWE_RATE_MAX',\n",
              " 'RAIN_LWE_RATE_MIN',\n",
              " 'HAS_SLEET',\n",
              " 'SLEET_LWE_TOTAL',\n",
              " 'SLEET_LWE_RATE_AVG',\n",
              " 'SLEET_LWE_RATE_MAX',\n",
              " 'SLEET_LWE_RATE_MIN',\n",
              " 'HAS_SNOW',\n",
              " 'SNOW_TOTAL',\n",
              " 'SNOW_AVG',\n",
              " 'SNOW_MAX',\n",
              " 'SNOW_MIN',\n",
              " 'SNOW_COVER_24HR_DEP',\n",
              " 'SNOW_COVER_AVG',\n",
              " 'SNOW_COVER_MAX',\n",
              " 'SNOW_COVER_MIN',\n",
              " 'SNOW_DEPTH_AVG',\n",
              " 'SNOW_DEPTH_MAX',\n",
              " 'SNOW_DEPTH_MIN',\n",
              " 'SNOW_DRIFTING_INTENSITY_MAX',\n",
              " 'SNOW_LIQUID_RATIO_ACCUWEATHER_AVG',\n",
              " 'SNOW_LIQUID_RATIO_ACCUWEATHER_MIN',\n",
              " 'SNOW_LIQUID_RATIO_ACCUWEATHER_MAX',\n",
              " 'SNOW_LIQUID_RATIO_COBB_2005_AVG',\n",
              " 'SNOW_LIQUID_RATIO_COBB_2005_MAX',\n",
              " 'SNOW_LIQUID_RATIO_COBB_2005_MIN',\n",
              " 'SNOW_LIQUID_RATIO_COBB_2011_AVG',\n",
              " 'SNOW_LIQUID_RATIO_COBB_2011_MAX',\n",
              " 'SNOW_LIQUID_RATIO_COBB_2011_MIN',\n",
              " 'SNOW_LIQUID_RATIO_KUCHERA_AVG',\n",
              " 'SNOW_LIQUID_RATIO_KUCHERA_MAX',\n",
              " 'SNOW_LIQUID_RATIO_KUCHERA_MIN',\n",
              " 'SNOW_LIQUID_RATIO_NCEP_AVG',\n",
              " 'SNOW_LIQUID_RATIO_NCEP_MAX',\n",
              " 'SNOW_LIQUID_RATIO_NCEP_MIN',\n",
              " 'SNOW_LWE_TOTAL',\n",
              " 'SNOW_LWE_RATE_AVG',\n",
              " 'SNOW_LWE_RATE_MAX',\n",
              " 'SNOW_LWE_RATE_MIN',\n",
              " 'SNOW_TYPE_DESC_PREDOMINANT',\n",
              " 'SOLAR_IRRADIANCE_AVG',\n",
              " 'SOLAR_IRRADIANCE_MAX',\n",
              " 'SOLAR_IRRADIANCE_TOTAL',\n",
              " 'SOLAR_RADIATION_NET_AVG',\n",
              " 'SOLAR_RADIATION_NET_MAX',\n",
              " 'SOLAR_RADIATION_NET_TOTAL',\n",
              " 'TEMPERATURE_24HR_DEP',\n",
              " 'TEMPERATURE_AVG',\n",
              " 'TEMPERATURE_MAX',\n",
              " 'TEMPERATURE_MIN',\n",
              " 'TEMPERATURE_DEW_POINT_24HR_DEP',\n",
              " 'TEMPERATURE_DEW_POINT_AVG',\n",
              " 'TEMPERATURE_DEW_POINT_MAX',\n",
              " 'TEMPERATURE_DEW_POINT_MIN',\n",
              " 'TEMPERATURE_HEAT_INDEX_24HR_DEP',\n",
              " 'TEMPERATURE_HEAT_INDEX_AVG',\n",
              " 'TEMPERATURE_HEAT_INDEX_MAX',\n",
              " 'TEMPERATURE_HEAT_INDEX_MIN',\n",
              " 'TEMPERATURE_REALFEEL_24HR_DEP',\n",
              " 'TEMPERATURE_REALFEEL_AVG',\n",
              " 'TEMPERATURE_REALFEEL_MAX',\n",
              " 'TEMPERATURE_REALFEEL_MIN',\n",
              " 'TEMPERATURE_REALFEEL_SHADE_24HR_DEP',\n",
              " 'TEMPERATURE_REALFEEL_SHADE_AVG',\n",
              " 'TEMPERATURE_REALFEEL_SHADE_MAX',\n",
              " 'TEMPERATURE_REALFEEL_SHADE_MIN',\n",
              " 'TEMPERATURE_SOIL_24HR_DEP',\n",
              " 'TEMPERATURE_SOIL_AVG',\n",
              " 'TEMPERATURE_SOIL_MAX',\n",
              " 'TEMPERATURE_SOIL_MIN',\n",
              " 'TEMPERATURE_WETBULB_24HR_DEP',\n",
              " 'TEMPERATURE_WETBULB_AVG',\n",
              " 'TEMPERATURE_WETBULB_MAX',\n",
              " 'TEMPERATURE_WETBULB_MIN',\n",
              " 'TEMPERATURE_WETBULB_GLOBE_24HR_DEP',\n",
              " 'TEMPERATURE_WETBULB_GLOBE_AVG',\n",
              " 'TEMPERATURE_WETBULB_GLOBE_MAX',\n",
              " 'TEMPERATURE_WETBULB_GLOBE_MIN',\n",
              " 'TEMPERATURE_WIND_CHILL_24HR_DEP',\n",
              " 'TEMPERATURE_WIND_CHILL_AVG',\n",
              " 'TEMPERATURE_WIND_CHILL_MAX',\n",
              " 'TEMPERATURE_WIND_CHILL_MIN',\n",
              " 'VISIBILITY_24HR_DEP',\n",
              " 'VISIBILITY_AVG',\n",
              " 'VISIBILITY_MAX',\n",
              " 'VISIBILITY_MIN',\n",
              " 'WIND_DIRECTION_24HR_DEP',\n",
              " 'WIND_DIRECTION_AVG',\n",
              " 'WIND_DIRECTION_PREDOMINANT',\n",
              " 'WIND_GUST_24HR_DEP',\n",
              " 'WIND_GUST_AVG',\n",
              " 'WIND_GUST_MAX',\n",
              " 'WIND_GUST_MIN',\n",
              " 'WIND_GUST_INSTANTANEOUS_24HR_DEP',\n",
              " 'WIND_GUST_INSTANTANEOUS_AVG',\n",
              " 'WIND_GUST_INSTANTANEOUS_MAX',\n",
              " 'WIND_GUST_INSTANTANEOUS_MIN',\n",
              " 'WIND_SPEED_24HR_DEP',\n",
              " 'WIND_SPEED_AVG',\n",
              " 'WIND_SPEED_MAX',\n",
              " 'WIND_SPEED_MIN']"
            ]
          },
          "metadata": {},
          "execution_count": 22
        }
      ],
      "source": [
        "list(weather_data.columns) #LOTS OF FEATURES !!"
      ]
    },
    {
      "cell_type": "code",
      "execution_count": null,
      "id": "632c1e80",
      "metadata": {
        "colab": {
          "base_uri": "https://localhost:8080/"
        },
        "id": "632c1e80",
        "outputId": "8c189dd8-663a-4f4d-fa75-affd616b9904"
      },
      "outputs": [
        {
          "output_type": "execute_result",
          "data": {
            "text/plain": [
              "1096"
            ]
          },
          "metadata": {},
          "execution_count": 23
        }
      ],
      "source": [
        "object_columns=weather_data[list(weather_data.select_dtypes(include=['object']).columns)] #all columns of type object\n",
        "len(object_columns)"
      ]
    },
    {
      "cell_type": "code",
      "execution_count": null,
      "id": "e75ddd0d",
      "metadata": {
        "colab": {
          "base_uri": "https://localhost:8080/",
          "height": 335
        },
        "id": "e75ddd0d",
        "outputId": "9a198b14-d3cf-4129-81a0-b5ca2034d558"
      },
      "outputs": [
        {
          "output_type": "execute_result",
          "data": {
            "text/plain": [
              "DATE                                      0\n",
              "HAS_FREEZING_RAIN                       164\n",
              "HAS_ICE                                 164\n",
              "PRECIPITATION_INTENSITY_MAX             727\n",
              "PRECIPITATION_TYPE_DESC_PREDOMINANT       0\n",
              "HAS_RAIN                                164\n",
              "HAS_SLEET                               164\n",
              "SNOW_DRIFTING_INTENSITY_MAX            1087\n",
              "dtype: int64"
            ],
            "text/html": [
              "<div>\n",
              "<style scoped>\n",
              "    .dataframe tbody tr th:only-of-type {\n",
              "        vertical-align: middle;\n",
              "    }\n",
              "\n",
              "    .dataframe tbody tr th {\n",
              "        vertical-align: top;\n",
              "    }\n",
              "\n",
              "    .dataframe thead th {\n",
              "        text-align: right;\n",
              "    }\n",
              "</style>\n",
              "<table border=\"1\" class=\"dataframe\">\n",
              "  <thead>\n",
              "    <tr style=\"text-align: right;\">\n",
              "      <th></th>\n",
              "      <th>0</th>\n",
              "    </tr>\n",
              "  </thead>\n",
              "  <tbody>\n",
              "    <tr>\n",
              "      <th>DATE</th>\n",
              "      <td>0</td>\n",
              "    </tr>\n",
              "    <tr>\n",
              "      <th>HAS_FREEZING_RAIN</th>\n",
              "      <td>164</td>\n",
              "    </tr>\n",
              "    <tr>\n",
              "      <th>HAS_ICE</th>\n",
              "      <td>164</td>\n",
              "    </tr>\n",
              "    <tr>\n",
              "      <th>PRECIPITATION_INTENSITY_MAX</th>\n",
              "      <td>727</td>\n",
              "    </tr>\n",
              "    <tr>\n",
              "      <th>PRECIPITATION_TYPE_DESC_PREDOMINANT</th>\n",
              "      <td>0</td>\n",
              "    </tr>\n",
              "    <tr>\n",
              "      <th>HAS_RAIN</th>\n",
              "      <td>164</td>\n",
              "    </tr>\n",
              "    <tr>\n",
              "      <th>HAS_SLEET</th>\n",
              "      <td>164</td>\n",
              "    </tr>\n",
              "    <tr>\n",
              "      <th>SNOW_DRIFTING_INTENSITY_MAX</th>\n",
              "      <td>1087</td>\n",
              "    </tr>\n",
              "  </tbody>\n",
              "</table>\n",
              "</div><br><label><b>dtype:</b> int64</label>"
            ]
          },
          "metadata": {},
          "execution_count": 24
        }
      ],
      "source": [
        "object_columns.isna().sum() #checking NULLS IN OBJECT COLUMNS"
      ]
    },
    {
      "cell_type": "markdown",
      "id": "baec9025",
      "metadata": {
        "id": "baec9025"
      },
      "source": [
        "# DEALING WITH NAN  VALUES"
      ]
    },
    {
      "cell_type": "markdown",
      "id": "959a48e3",
      "metadata": {
        "id": "959a48e3"
      },
      "source": [
        "##### THE DIAGRAM BELOW SHOWS ALL THE FEATURES WITH COLUMNS HAVING MORE THAN 30% NULL VALUES.WE USE A NULL THRESHOLD TO ERADICATE THESE COLUMNS.OUR NULL THRESHOLD IS SET AT 30%"
      ]
    },
    {
      "cell_type": "code",
      "execution_count": null,
      "id": "b371b114",
      "metadata": {
        "colab": {
          "base_uri": "https://localhost:8080/",
          "height": 607
        },
        "id": "b371b114",
        "outputId": "4067a9d1-5b54-48e1-e26a-408af16e031c"
      },
      "outputs": [
        {
          "output_type": "display_data",
          "data": {
            "text/plain": [
              "<Figure size 1500x600 with 1 Axes>"
            ],
            "image/png": "[encoded data removed]"
          },
          "metadata": {}
        }
      ],
      "source": [
        "empty_values_per_column=(weather_data.isna().sum()/len(weather_data))*100 #eradicate columns with empty cells more than 30%\n",
        "plt.figure(figsize=(15,6))  # Adjust figsize as needed\n",
        "empty_values_per_column.plot(kind='bar')\n",
        "plt.axhline(y=30, color='r', linestyle='--') #30% threshold\n",
        "plt.tight_layout()"
      ]
    },
    {
      "cell_type": "code",
      "execution_count": null,
      "id": "3dfe4cba",
      "metadata": {
        "colab": {
          "base_uri": "https://localhost:8080/",
          "height": 607
        },
        "id": "3dfe4cba",
        "outputId": "76ba0f3d-ecc4-4ea4-ccf0-e0e994b0a367"
      },
      "outputs": [
        {
          "output_type": "display_data",
          "data": {
            "text/plain": [
              "<Figure size 1000x600 with 1 Axes>"
            ],
            "image/png": "[encoded data removed]"
          },
          "metadata": {}
        }
      ],
      "source": [
        "#plotting the columns with empty values over 30% .\n",
        "empty_vals_top_9=empty_values_per_column.nlargest(9) #see that the temperature _heat _index and wind_chills are missing.might be defective sensors\n",
        "plt.figure(figsize=(10,6))  # Adjust figsize as needed\n",
        "empty_vals_top_9.plot(kind='bar',)\n",
        "plt.axhline(y=30, color='r', linestyle='--') #30% threshold\n",
        "plt.tight_layout()"
      ]
    },
    {
      "cell_type": "code",
      "execution_count": null,
      "id": "2944879c",
      "metadata": {
        "id": "2944879c"
      },
      "outputs": [],
      "source": [
        "#dropping these columns\n",
        "weather_data.drop(columns=list(empty_vals_top_9.index), inplace=True)\n"
      ]
    },
    {
      "cell_type": "code",
      "execution_count": null,
      "id": "229f61a2",
      "metadata": {
        "colab": {
          "base_uri": "https://localhost:8080/",
          "height": 444
        },
        "id": "229f61a2",
        "outputId": "c5785017-ee25-44c8-fe07-ee7f769cd0e0"
      },
      "outputs": [
        {
          "output_type": "execute_result",
          "data": {
            "text/plain": [
              "      CLOUD_BASE_HEIGHT_24HR_DEP  CLOUD_BASE_HEIGHT_AVG  \\\n",
              "0                          -1376                 1063.0   \n",
              "1                            255                 1318.0   \n",
              "2                           7448                 8767.0   \n",
              "3                          -6705                 2061.0   \n",
              "4                            639                 2700.0   \n",
              "...                          ...                    ...   \n",
              "1091                        -499                 3288.0   \n",
              "1092                       -2364                  924.0   \n",
              "1093                         951                 1875.0   \n",
              "1094                        5515                 7391.0   \n",
              "1095                        4801                    NaN   \n",
              "\n",
              "      CLOUD_BASE_HEIGHT_MAX  CLOUD_BASE_HEIGHT_MIN  CLOUD_COVER_24HR_DEP  \\\n",
              "0                    1063.0                 1063.0                 -0.01   \n",
              "1                    2482.0                  586.0                 -0.03   \n",
              "2                   11406.0                 6184.0                  0.18   \n",
              "3                    5232.0                  424.0                  0.55   \n",
              "4                    7604.0                  680.0                 -0.07   \n",
              "...                     ...                    ...                   ...   \n",
              "1091                 6096.0                 1067.0                  0.24   \n",
              "1092                 7162.0                  396.0                  0.47   \n",
              "1093                 9448.0                   61.0                 -0.02   \n",
              "1094                 8686.0                 6096.0                 -0.77   \n",
              "1095                    NaN                    NaN                 -0.13   \n",
              "\n",
              "      CLOUD_COVER_AVG  CLOUD_COVER_MAX  CLOUD_COVER_MIN  \\\n",
              "0                0.18             0.74             0.00   \n",
              "1                0.15             0.85             0.00   \n",
              "2                0.33             1.00             0.00   \n",
              "3                0.88             1.00             0.45   \n",
              "4                0.81             1.00             0.47   \n",
              "...               ...              ...              ...   \n",
              "1091             0.50             1.00             0.00   \n",
              "1092             0.98             1.00             0.76   \n",
              "1093             0.96             1.00             0.82   \n",
              "1094             0.19             0.76             0.00   \n",
              "1095             0.05             0.31             0.00   \n",
              "\n",
              "      CLOUD_COVER_PERC_24HR_DEP  CLOUD_COVER_PERC_AVG  ...  WIND_GUST_MAX  \\\n",
              "0                            -1                    17  ...          11.63   \n",
              "1                            -2                    15  ...          15.89   \n",
              "2                            18                    33  ...          10.45   \n",
              "3                            55                    88  ...          11.48   \n",
              "4                            -7                    81  ...           6.18   \n",
              "...                         ...                   ...  ...            ...   \n",
              "1091                         23                    50  ...          16.46   \n",
              "1092                         47                    97  ...          10.81   \n",
              "1093                         -1                    95  ...          17.49   \n",
              "1094                        -77                    18  ...          16.46   \n",
              "1095                        -13                     5  ...           3.09   \n",
              "\n",
              "      WIND_GUST_MIN  WIND_GUST_INSTANTANEOUS_24HR_DEP  \\\n",
              "0              4.30                             -2.40   \n",
              "1              5.55                              3.20   \n",
              "2              5.42                             -3.89   \n",
              "3              3.11                              0.81   \n",
              "4              2.49                             -4.54   \n",
              "...             ...                               ...   \n",
              "1091           6.03                               NaN   \n",
              "1092           2.94                               NaN   \n",
              "1093           2.70                               NaN   \n",
              "1094           2.06                               NaN   \n",
              "1095           0.31                               NaN   \n",
              "\n",
              "      WIND_GUST_INSTANTANEOUS_AVG  WIND_GUST_INSTANTANEOUS_MAX  \\\n",
              "0                            8.19                        10.84   \n",
              "1                           11.39                        15.75   \n",
              "2                            7.50                        10.47   \n",
              "3                            8.30                        11.20   \n",
              "4                            3.76                         6.07   \n",
              "...                           ...                          ...   \n",
              "1091                          NaN                          NaN   \n",
              "1092                          NaN                          NaN   \n",
              "1093                          NaN                          NaN   \n",
              "1094                          NaN                          NaN   \n",
              "1095                          NaN                          NaN   \n",
              "\n",
              "      WIND_GUST_INSTANTANEOUS_MIN  WIND_SPEED_24HR_DEP  WIND_SPEED_AVG  \\\n",
              "0                            3.73                -1.51            5.11   \n",
              "1                            5.44                 1.90            7.00   \n",
              "2                            5.12                -2.68            4.32   \n",
              "3                            2.88                 1.16            5.48   \n",
              "4                            2.06                -3.43            2.05   \n",
              "...                           ...                  ...             ...   \n",
              "1091                          NaN                 4.42            8.52   \n",
              "1092                          NaN                -4.18            4.34   \n",
              "1093                          NaN                 2.73            7.07   \n",
              "1094                          NaN                 0.22            7.29   \n",
              "1095                          NaN                -5.06            2.23   \n",
              "\n",
              "      WIND_SPEED_MAX  WIND_SPEED_MIN  \n",
              "0               7.44            2.27  \n",
              "1               9.30            3.81  \n",
              "2               6.52            2.04  \n",
              "3               7.33            2.03  \n",
              "4               3.03            1.30  \n",
              "...              ...             ...  \n",
              "1091           12.35            2.78  \n",
              "1092            7.72            0.77  \n",
              "1093           11.32            0.80  \n",
              "1094           10.81            2.06  \n",
              "1095            3.09            0.00  \n",
              "\n",
              "[1096 rows x 150 columns]"
            ],
            "text/html": [
              "\n",
              "  <div id=\"df-359cdf77-57dc-4729-b239-8e36136e3b99\" class=\"colab-df-container\">\n",
              "    <div>\n",
              "<style scoped>\n",
              "    .dataframe tbody tr th:only-of-type {\n",
              "        vertical-align: middle;\n",
              "    }\n",
              "\n",
              "    .dataframe tbody tr th {\n",
              "        vertical-align: top;\n",
              "    }\n",
              "\n",
              "    .dataframe thead th {\n",
              "        text-align: right;\n",
              "    }\n",
              "</style>\n",
              "<table border=\"1\" class=\"dataframe\">\n",
              "  <thead>\n",
              "    <tr style=\"text-align: right;\">\n",
              "      <th></th>\n",
              "      <th>CLOUD_BASE_HEIGHT_24HR_DEP</th>\n",
              "      <th>CLOUD_BASE_HEIGHT_AVG</th>\n",
              "      <th>CLOUD_BASE_HEIGHT_MAX</th>\n",
              "      <th>CLOUD_BASE_HEIGHT_MIN</th>\n",
              "      <th>CLOUD_COVER_24HR_DEP</th>\n",
              "      <th>CLOUD_COVER_AVG</th>\n",
              "      <th>CLOUD_COVER_MAX</th>\n",
              "      <th>CLOUD_COVER_MIN</th>\n",
              "      <th>CLOUD_COVER_PERC_24HR_DEP</th>\n",
              "      <th>CLOUD_COVER_PERC_AVG</th>\n",
              "      <th>...</th>\n",
              "      <th>WIND_GUST_MAX</th>\n",
              "      <th>WIND_GUST_MIN</th>\n",
              "      <th>WIND_GUST_INSTANTANEOUS_24HR_DEP</th>\n",
              "      <th>WIND_GUST_INSTANTANEOUS_AVG</th>\n",
              "      <th>WIND_GUST_INSTANTANEOUS_MAX</th>\n",
              "      <th>WIND_GUST_INSTANTANEOUS_MIN</th>\n",
              "      <th>WIND_SPEED_24HR_DEP</th>\n",
              "      <th>WIND_SPEED_AVG</th>\n",
              "      <th>WIND_SPEED_MAX</th>\n",
              "      <th>WIND_SPEED_MIN</th>\n",
              "    </tr>\n",
              "  </thead>\n",
              "  <tbody>\n",
              "    <tr>\n",
              "      <th>0</th>\n",
              "      <td>-1376</td>\n",
              "      <td>1063.0</td>\n",
              "      <td>1063.0</td>\n",
              "      <td>1063.0</td>\n",
              "      <td>-0.01</td>\n",
              "      <td>0.18</td>\n",
              "      <td>0.74</td>\n",
              "      <td>0.00</td>\n",
              "      <td>-1</td>\n",
              "      <td>17</td>\n",
              "      <td>...</td>\n",
              "      <td>11.63</td>\n",
              "      <td>4.30</td>\n",
              "      <td>-2.40</td>\n",
              "      <td>8.19</td>\n",
              "      <td>10.84</td>\n",
              "      <td>3.73</td>\n",
              "      <td>-1.51</td>\n",
              "      <td>5.11</td>\n",
              "      <td>7.44</td>\n",
              "      <td>2.27</td>\n",
              "    </tr>\n",
              "    <tr>\n",
              "      <th>1</th>\n",
              "      <td>255</td>\n",
              "      <td>1318.0</td>\n",
              "      <td>2482.0</td>\n",
              "      <td>586.0</td>\n",
              "      <td>-0.03</td>\n",
              "      <td>0.15</td>\n",
              "      <td>0.85</td>\n",
              "      <td>0.00</td>\n",
              "      <td>-2</td>\n",
              "      <td>15</td>\n",
              "      <td>...</td>\n",
              "      <td>15.89</td>\n",
              "      <td>5.55</td>\n",
              "      <td>3.20</td>\n",
              "      <td>11.39</td>\n",
              "      <td>15.75</td>\n",
              "      <td>5.44</td>\n",
              "      <td>1.90</td>\n",
              "      <td>7.00</td>\n",
              "      <td>9.30</td>\n",
              "      <td>3.81</td>\n",
              "    </tr>\n",
              "    <tr>\n",
              "      <th>2</th>\n",
              "      <td>7448</td>\n",
              "      <td>8767.0</td>\n",
              "      <td>11406.0</td>\n",
              "      <td>6184.0</td>\n",
              "      <td>0.18</td>\n",
              "      <td>0.33</td>\n",
              "      <td>1.00</td>\n",
              "      <td>0.00</td>\n",
              "      <td>18</td>\n",
              "      <td>33</td>\n",
              "      <td>...</td>\n",
              "      <td>10.45</td>\n",
              "      <td>5.42</td>\n",
              "      <td>-3.89</td>\n",
              "      <td>7.50</td>\n",
              "      <td>10.47</td>\n",
              "      <td>5.12</td>\n",
              "      <td>-2.68</td>\n",
              "      <td>4.32</td>\n",
              "      <td>6.52</td>\n",
              "      <td>2.04</td>\n",
              "    </tr>\n",
              "    <tr>\n",
              "      <th>3</th>\n",
              "      <td>-6705</td>\n",
              "      <td>2061.0</td>\n",
              "      <td>5232.0</td>\n",
              "      <td>424.0</td>\n",
              "      <td>0.55</td>\n",
              "      <td>0.88</td>\n",
              "      <td>1.00</td>\n",
              "      <td>0.45</td>\n",
              "      <td>55</td>\n",
              "      <td>88</td>\n",
              "      <td>...</td>\n",
              "      <td>11.48</td>\n",
              "      <td>3.11</td>\n",
              "      <td>0.81</td>\n",
              "      <td>8.30</td>\n",
              "      <td>11.20</td>\n",
              "      <td>2.88</td>\n",
              "      <td>1.16</td>\n",
              "      <td>5.48</td>\n",
              "      <td>7.33</td>\n",
              "      <td>2.03</td>\n",
              "    </tr>\n",
              "    <tr>\n",
              "      <th>4</th>\n",
              "      <td>639</td>\n",
              "      <td>2700.0</td>\n",
              "      <td>7604.0</td>\n",
              "      <td>680.0</td>\n",
              "      <td>-0.07</td>\n",
              "      <td>0.81</td>\n",
              "      <td>1.00</td>\n",
              "      <td>0.47</td>\n",
              "      <td>-7</td>\n",
              "      <td>81</td>\n",
              "      <td>...</td>\n",
              "      <td>6.18</td>\n",
              "      <td>2.49</td>\n",
              "      <td>-4.54</td>\n",
              "      <td>3.76</td>\n",
              "      <td>6.07</td>\n",
              "      <td>2.06</td>\n",
              "      <td>-3.43</td>\n",
              "      <td>2.05</td>\n",
              "      <td>3.03</td>\n",
              "      <td>1.30</td>\n",
              "    </tr>\n",
              "    <tr>\n",
              "      <th>...</th>\n",
              "      <td>...</td>\n",
              "      <td>...</td>\n",
              "      <td>...</td>\n",
              "      <td>...</td>\n",
              "      <td>...</td>\n",
              "      <td>...</td>\n",
              "      <td>...</td>\n",
              "      <td>...</td>\n",
              "      <td>...</td>\n",
              "      <td>...</td>\n",
              "      <td>...</td>\n",
              "      <td>...</td>\n",
              "      <td>...</td>\n",
              "      <td>...</td>\n",
              "      <td>...</td>\n",
              "      <td>...</td>\n",
              "      <td>...</td>\n",
              "      <td>...</td>\n",
              "      <td>...</td>\n",
              "      <td>...</td>\n",
              "      <td>...</td>\n",
              "    </tr>\n",
              "    <tr>\n",
              "      <th>1091</th>\n",
              "      <td>-499</td>\n",
              "      <td>3288.0</td>\n",
              "      <td>6096.0</td>\n",
              "      <td>1067.0</td>\n",
              "      <td>0.24</td>\n",
              "      <td>0.50</td>\n",
              "      <td>1.00</td>\n",
              "      <td>0.00</td>\n",
              "      <td>23</td>\n",
              "      <td>50</td>\n",
              "      <td>...</td>\n",
              "      <td>16.46</td>\n",
              "      <td>6.03</td>\n",
              "      <td>NaN</td>\n",
              "      <td>NaN</td>\n",
              "      <td>NaN</td>\n",
              "      <td>NaN</td>\n",
              "      <td>4.42</td>\n",
              "      <td>8.52</td>\n",
              "      <td>12.35</td>\n",
              "      <td>2.78</td>\n",
              "    </tr>\n",
              "    <tr>\n",
              "      <th>1092</th>\n",
              "      <td>-2364</td>\n",
              "      <td>924.0</td>\n",
              "      <td>7162.0</td>\n",
              "      <td>396.0</td>\n",
              "      <td>0.47</td>\n",
              "      <td>0.98</td>\n",
              "      <td>1.00</td>\n",
              "      <td>0.76</td>\n",
              "      <td>47</td>\n",
              "      <td>97</td>\n",
              "      <td>...</td>\n",
              "      <td>10.81</td>\n",
              "      <td>2.94</td>\n",
              "      <td>NaN</td>\n",
              "      <td>NaN</td>\n",
              "      <td>NaN</td>\n",
              "      <td>NaN</td>\n",
              "      <td>-4.18</td>\n",
              "      <td>4.34</td>\n",
              "      <td>7.72</td>\n",
              "      <td>0.77</td>\n",
              "    </tr>\n",
              "    <tr>\n",
              "      <th>1093</th>\n",
              "      <td>951</td>\n",
              "      <td>1875.0</td>\n",
              "      <td>9448.0</td>\n",
              "      <td>61.0</td>\n",
              "      <td>-0.02</td>\n",
              "      <td>0.96</td>\n",
              "      <td>1.00</td>\n",
              "      <td>0.82</td>\n",
              "      <td>-1</td>\n",
              "      <td>95</td>\n",
              "      <td>...</td>\n",
              "      <td>17.49</td>\n",
              "      <td>2.70</td>\n",
              "      <td>NaN</td>\n",
              "      <td>NaN</td>\n",
              "      <td>NaN</td>\n",
              "      <td>NaN</td>\n",
              "      <td>2.73</td>\n",
              "      <td>7.07</td>\n",
              "      <td>11.32</td>\n",
              "      <td>0.80</td>\n",
              "    </tr>\n",
              "    <tr>\n",
              "      <th>1094</th>\n",
              "      <td>5515</td>\n",
              "      <td>7391.0</td>\n",
              "      <td>8686.0</td>\n",
              "      <td>6096.0</td>\n",
              "      <td>-0.77</td>\n",
              "      <td>0.19</td>\n",
              "      <td>0.76</td>\n",
              "      <td>0.00</td>\n",
              "      <td>-77</td>\n",
              "      <td>18</td>\n",
              "      <td>...</td>\n",
              "      <td>16.46</td>\n",
              "      <td>2.06</td>\n",
              "      <td>NaN</td>\n",
              "      <td>NaN</td>\n",
              "      <td>NaN</td>\n",
              "      <td>NaN</td>\n",
              "      <td>0.22</td>\n",
              "      <td>7.29</td>\n",
              "      <td>10.81</td>\n",
              "      <td>2.06</td>\n",
              "    </tr>\n",
              "    <tr>\n",
              "      <th>1095</th>\n",
              "      <td>4801</td>\n",
              "      <td>NaN</td>\n",
              "      <td>NaN</td>\n",
              "      <td>NaN</td>\n",
              "      <td>-0.13</td>\n",
              "      <td>0.05</td>\n",
              "      <td>0.31</td>\n",
              "      <td>0.00</td>\n",
              "      <td>-13</td>\n",
              "      <td>5</td>\n",
              "      <td>...</td>\n",
              "      <td>3.09</td>\n",
              "      <td>0.31</td>\n",
              "      <td>NaN</td>\n",
              "      <td>NaN</td>\n",
              "      <td>NaN</td>\n",
              "      <td>NaN</td>\n",
              "      <td>-5.06</td>\n",
              "      <td>2.23</td>\n",
              "      <td>3.09</td>\n",
              "      <td>0.00</td>\n",
              "    </tr>\n",
              "  </tbody>\n",
              "</table>\n",
              "<p>1096 rows × 150 columns</p>\n",
              "</div>\n",
              "    <div class=\"colab-df-buttons\">\n",
              "\n",
              "  <div class=\"colab-df-container\">\n",
              "    <button class=\"colab-df-convert\" onclick=\"convertToInteractive('df-359cdf77-57dc-4729-b239-8e36136e3b99')\"\n",
              "            title=\"Convert this dataframe to an interactive table.\"\n",
              "            style=\"display:none;\">\n",
              "\n",
              "  <svg xmlns=\"http://www.w3.org/2000/svg\" height=\"24px\" viewBox=\"0 -960 960 960\">\n",
              "    <path d=\"M120-120v-720h720v720H120Zm60-500h600v-160H180v160Zm220 220h160v-160H400v160Zm0 220h160v-160H400v160ZM180-400h160v-160H180v160Zm440 0h160v-160H620v160ZM180-180h160v-160H180v160Zm440 0h160v-160H620v160Z\"/>\n",
              "  </svg>\n",
              "    </button>\n",
              "\n",
              "  <style>\n",
              "    .colab-df-container {\n",
              "      display:flex;\n",
              "      gap: 12px;\n",
              "    }\n",
              "\n",
              "    .colab-df-convert {\n",
              "      background-color: #E8F0FE;\n",
              "      border: none;\n",
              "      border-radius: 50%;\n",
              "      cursor: pointer;\n",
              "      display: none;\n",
              "      fill: #1967D2;\n",
              "      height: 32px;\n",
              "      padding: 0 0 0 0;\n",
              "      width: 32px;\n",
              "    }\n",
              "\n",
              "    .colab-df-convert:hover {\n",
              "      background-color: #E2EBFA;\n",
              "      box-shadow: 0px 1px 2px rgba(60, 64, 67, 0.3), 0px 1px 3px 1px rgba(60, 64, 67, 0.15);\n",
              "      fill: #174EA6;\n",
              "    }\n",
              "\n",
              "    .colab-df-buttons div {\n",
              "      margin-bottom: 4px;\n",
              "    }\n",
              "\n",
              "    [theme=dark] .colab-df-convert {\n",
              "      background-color: #3B4455;\n",
              "      fill: #D2E3FC;\n",
              "    }\n",
              "\n",
              "    [theme=dark] .colab-df-convert:hover {\n",
              "      background-color: #434B5C;\n",
              "      box-shadow: 0px 1px 3px 1px rgba(0, 0, 0, 0.15);\n",
              "      filter: drop-shadow(0px 1px 2px rgba(0, 0, 0, 0.3));\n",
              "      fill: #FFFFFF;\n",
              "    }\n",
              "  </style>\n",
              "\n",
              "    <script>\n",
              "      const buttonEl =\n",
              "        document.querySelector('#df-359cdf77-57dc-4729-b239-8e36136e3b99 button.colab-df-convert');\n",
              "      buttonEl.style.display =\n",
              "        google.colab.kernel.accessAllowed ? 'block' : 'none';\n",
              "\n",
              "      async function convertToInteractive(key) {\n",
              "        const element = document.querySelector('#df-359cdf77-57dc-4729-b239-8e36136e3b99');\n",
              "        const dataTable =\n",
              "          await google.colab.kernel.invokeFunction('convertToInteractive',\n",
              "                                                    [key], {});\n",
              "        if (!dataTable) return;\n",
              "\n",
              "        const docLinkHtml = 'Like what you see? Visit the ' +\n",
              "          '<a target=\"_blank\" href=https://colab.research.google.com/notebooks/data_table.ipynb>data table notebook</a>'\n",
              "          + ' to learn more about interactive tables.';\n",
              "        element.innerHTML = '';\n",
              "        dataTable['output_type'] = 'display_data';\n",
              "        await google.colab.output.renderOutput(dataTable, element);\n",
              "        const docLink = document.createElement('div');\n",
              "        docLink.innerHTML = docLinkHtml;\n",
              "        element.appendChild(docLink);\n",
              "      }\n",
              "    </script>\n",
              "  </div>\n",
              "\n",
              "\n",
              "<div id=\"df-d671fea7-31cd-4fb2-9d3a-57162d065da9\">\n",
              "  <button class=\"colab-df-quickchart\" onclick=\"quickchart('df-d671fea7-31cd-4fb2-9d3a-57162d065da9')\"\n",
              "            title=\"Suggest charts\"\n",
              "            style=\"display:none;\">\n",
              "\n",
              "<svg xmlns=\"http://www.w3.org/2000/svg\" height=\"24px\"viewBox=\"0 0 24 24\"\n",
              "     width=\"24px\">\n",
              "    <g>\n",
              "        <path d=\"M19 3H5c-1.1 0-2 .9-2 2v14c0 1.1.9 2 2 2h14c1.1 0 2-.9 2-2V5c0-1.1-.9-2-2-2zM9 17H7v-7h2v7zm4 0h-2V7h2v10zm4 0h-2v-4h2v4z\"/>\n",
              "    </g>\n",
              "</svg>\n",
              "  </button>\n",
              "\n",
              "<style>\n",
              "  .colab-df-quickchart {\n",
              "      --bg-color: #E8F0FE;\n",
              "      --fill-color: #1967D2;\n",
              "      --hover-bg-color: #E2EBFA;\n",
              "      --hover-fill-color: #174EA6;\n",
              "      --disabled-fill-color: #AAA;\n",
              "      --disabled-bg-color: #DDD;\n",
              "  }\n",
              "\n",
              "  [theme=dark] .colab-df-quickchart {\n",
              "      --bg-color: #3B4455;\n",
              "      --fill-color: #D2E3FC;\n",
              "      --hover-bg-color: #434B5C;\n",
              "      --hover-fill-color: #FFFFFF;\n",
              "      --disabled-bg-color: #3B4455;\n",
              "      --disabled-fill-color: #666;\n",
              "  }\n",
              "\n",
              "  .colab-df-quickchart {\n",
              "    background-color: var(--bg-color);\n",
              "    border: none;\n",
              "    border-radius: 50%;\n",
              "    cursor: pointer;\n",
              "    display: none;\n",
              "    fill: var(--fill-color);\n",
              "    height: 32px;\n",
              "    padding: 0;\n",
              "    width: 32px;\n",
              "  }\n",
              "\n",
              "  .colab-df-quickchart:hover {\n",
              "    background-color: var(--hover-bg-color);\n",
              "    box-shadow: 0 1px 2px rgba(60, 64, 67, 0.3), 0 1px 3px 1px rgba(60, 64, 67, 0.15);\n",
              "    fill: var(--button-hover-fill-color);\n",
              "  }\n",
              "\n",
              "  .colab-df-quickchart-complete:disabled,\n",
              "  .colab-df-quickchart-complete:disabled:hover {\n",
              "    background-color: var(--disabled-bg-color);\n",
              "    fill: var(--disabled-fill-color);\n",
              "    box-shadow: none;\n",
              "  }\n",
              "\n",
              "  .colab-df-spinner {\n",
              "    border: 2px solid var(--fill-color);\n",
              "    border-color: transparent;\n",
              "    border-bottom-color: var(--fill-color);\n",
              "    animation:\n",
              "      spin 1s steps(1) infinite;\n",
              "  }\n",
              "\n",
              "  @keyframes spin {\n",
              "    0% {\n",
              "      border-color: transparent;\n",
              "      border-bottom-color: var(--fill-color);\n",
              "      border-left-color: var(--fill-color);\n",
              "    }\n",
              "    20% {\n",
              "      border-color: transparent;\n",
              "      border-left-color: var(--fill-color);\n",
              "      border-top-color: var(--fill-color);\n",
              "    }\n",
              "    30% {\n",
              "      border-color: transparent;\n",
              "      border-left-color: var(--fill-color);\n",
              "      border-top-color: var(--fill-color);\n",
              "      border-right-color: var(--fill-color);\n",
              "    }\n",
              "    40% {\n",
              "      border-color: transparent;\n",
              "      border-right-color: var(--fill-color);\n",
              "      border-top-color: var(--fill-color);\n",
              "    }\n",
              "    60% {\n",
              "      border-color: transparent;\n",
              "      border-right-color: var(--fill-color);\n",
              "    }\n",
              "    80% {\n",
              "      border-color: transparent;\n",
              "      border-right-color: var(--fill-color);\n",
              "      border-bottom-color: var(--fill-color);\n",
              "    }\n",
              "    90% {\n",
              "      border-color: transparent;\n",
              "      border-bottom-color: var(--fill-color);\n",
              "    }\n",
              "  }\n",
              "</style>\n",
              "\n",
              "  <script>\n",
              "    async function quickchart(key) {\n",
              "      const quickchartButtonEl =\n",
              "        document.querySelector('#' + key + ' button');\n",
              "      quickchartButtonEl.disabled = true;  // To prevent multiple clicks.\n",
              "      quickchartButtonEl.classList.add('colab-df-spinner');\n",
              "      try {\n",
              "        const charts = await google.colab.kernel.invokeFunction(\n",
              "            'suggestCharts', [key], {});\n",
              "      } catch (error) {\n",
              "        console.error('Error during call to suggestCharts:', error);\n",
              "      }\n",
              "      quickchartButtonEl.classList.remove('colab-df-spinner');\n",
              "      quickchartButtonEl.classList.add('colab-df-quickchart-complete');\n",
              "    }\n",
              "    (() => {\n",
              "      let quickchartButtonEl =\n",
              "        document.querySelector('#df-d671fea7-31cd-4fb2-9d3a-57162d065da9 button');\n",
              "      quickchartButtonEl.style.display =\n",
              "        google.colab.kernel.accessAllowed ? 'block' : 'none';\n",
              "    })();\n",
              "  </script>\n",
              "</div>\n",
              "\n",
              "  <div id=\"id_60011feb-f2fe-4bde-adef-61ec28a9dc54\">\n",
              "    <style>\n",
              "      .colab-df-generate {\n",
              "        background-color: #E8F0FE;\n",
              "        border: none;\n",
              "        border-radius: 50%;\n",
              "        cursor: pointer;\n",
              "        display: none;\n",
              "        fill: #1967D2;\n",
              "        height: 32px;\n",
              "        padding: 0 0 0 0;\n",
              "        width: 32px;\n",
              "      }\n",
              "\n",
              "      .colab-df-generate:hover {\n",
              "        background-color: #E2EBFA;\n",
              "        box-shadow: 0px 1px 2px rgba(60, 64, 67, 0.3), 0px 1px 3px 1px rgba(60, 64, 67, 0.15);\n",
              "        fill: #174EA6;\n",
              "      }\n",
              "\n",
              "      [theme=dark] .colab-df-generate {\n",
              "        background-color: #3B4455;\n",
              "        fill: #D2E3FC;\n",
              "      }\n",
              "\n",
              "      [theme=dark] .colab-df-generate:hover {\n",
              "        background-color: #434B5C;\n",
              "        box-shadow: 0px 1px 3px 1px rgba(0, 0, 0, 0.15);\n",
              "        filter: drop-shadow(0px 1px 2px rgba(0, 0, 0, 0.3));\n",
              "        fill: #FFFFFF;\n",
              "      }\n",
              "    </style>\n",
              "    <button class=\"colab-df-generate\" onclick=\"generateWithVariable('num_columns')\"\n",
              "            title=\"Generate code using this dataframe.\"\n",
              "            style=\"display:none;\">\n",
              "\n",
              "  <svg xmlns=\"http://www.w3.org/2000/svg\" height=\"24px\"viewBox=\"0 0 24 24\"\n",
              "       width=\"24px\">\n",
              "    <path d=\"M7,19H8.4L18.45,9,17,7.55,7,17.6ZM5,21V16.75L18.45,3.32a2,2,0,0,1,2.83,0l1.4,1.43a1.91,1.91,0,0,1,.58,1.4,1.91,1.91,0,0,1-.58,1.4L9.25,21ZM18.45,9,17,7.55Zm-12,3A5.31,5.31,0,0,0,4.9,8.1,5.31,5.31,0,0,0,1,6.5,5.31,5.31,0,0,0,4.9,4.9,5.31,5.31,0,0,0,6.5,1,5.31,5.31,0,0,0,8.1,4.9,5.31,5.31,0,0,0,12,6.5,5.46,5.46,0,0,0,6.5,12Z\"/>\n",
              "  </svg>\n",
              "    </button>\n",
              "    <script>\n",
              "      (() => {\n",
              "      const buttonEl =\n",
              "        document.querySelector('#id_60011feb-f2fe-4bde-adef-61ec28a9dc54 button.colab-df-generate');\n",
              "      buttonEl.style.display =\n",
              "        google.colab.kernel.accessAllowed ? 'block' : 'none';\n",
              "\n",
              "      buttonEl.onclick = () => {\n",
              "        google.colab.notebook.generateWithVariable('num_columns');\n",
              "      }\n",
              "      })();\n",
              "    </script>\n",
              "  </div>\n",
              "\n",
              "    </div>\n",
              "  </div>\n"
            ],
            "application/vnd.google.colaboratory.intrinsic+json": {
              "type": "dataframe",
              "variable_name": "num_columns"
            }
          },
          "metadata": {},
          "execution_count": 28
        }
      ],
      "source": [
        "num_columns=weather_data[list(weather_data.select_dtypes(include=['number']).columns)] #exploring number columns\n",
        "num_columns"
      ]
    },
    {
      "cell_type": "code",
      "execution_count": null,
      "id": "784c6cbc",
      "metadata": {
        "colab": {
          "base_uri": "https://localhost:8080/",
          "height": 586
        },
        "id": "784c6cbc",
        "outputId": "e52fe609-2c25-4495-caa7-d92648708ea1"
      },
      "outputs": [
        {
          "output_type": "execute_result",
          "data": {
            "text/plain": [
              "         DATE  CLOUD_BASE_HEIGHT_24HR_DEP  CLOUD_BASE_HEIGHT_AVG  \\\n",
              "0  2021-03-13                       -1376                 1063.0   \n",
              "1  2021-03-14                         255                 1318.0   \n",
              "2  2021-03-15                        7448                 8767.0   \n",
              "3  2021-03-16                       -6705                 2061.0   \n",
              "4  2021-03-17                         639                 2700.0   \n",
              "5  2021-03-18                         774                 3475.0   \n",
              "6  2021-03-19                        3927                 7402.0   \n",
              "7  2021-03-20                        4789                    NaN   \n",
              "8  2021-03-21                           0                    NaN   \n",
              "9  2021-03-22                       -4037                 8154.0   \n",
              "\n",
              "   CLOUD_BASE_HEIGHT_MAX  CLOUD_BASE_HEIGHT_MIN  CLOUD_COVER_24HR_DEP  \\\n",
              "0                 1063.0                 1063.0                 -0.01   \n",
              "1                 2482.0                  586.0                 -0.03   \n",
              "2                11406.0                 6184.0                  0.18   \n",
              "3                 5232.0                  424.0                  0.55   \n",
              "4                 7604.0                  680.0                 -0.07   \n",
              "5                 7198.0                  879.0                  0.17   \n",
              "6                 7402.0                 7402.0                 -0.98   \n",
              "7                    NaN                    NaN                  0.01   \n",
              "8                    NaN                    NaN                 -0.01   \n",
              "9                 9551.0                 7320.0                  0.36   \n",
              "\n",
              "   CLOUD_COVER_AVG  CLOUD_COVER_MAX  CLOUD_COVER_MIN  \\\n",
              "0             0.18             0.74             0.00   \n",
              "1             0.15             0.85             0.00   \n",
              "2             0.33             1.00             0.00   \n",
              "3             0.88             1.00             0.45   \n",
              "4             0.81             1.00             0.47   \n",
              "5             0.98             1.00             0.53   \n",
              "6             0.00             0.00             0.00   \n",
              "7             0.01             0.09             0.00   \n",
              "8             0.00             0.00             0.00   \n",
              "9             0.36             0.99             0.00   \n",
              "\n",
              "   CLOUD_COVER_PERC_24HR_DEP  ...  WIND_GUST_MAX  WIND_GUST_MIN  \\\n",
              "0                         -1  ...          11.63           4.30   \n",
              "1                         -2  ...          15.89           5.55   \n",
              "2                         18  ...          10.45           5.42   \n",
              "3                         55  ...          11.48           3.11   \n",
              "4                         -7  ...           6.18           2.49   \n",
              "5                         16  ...          14.22           3.58   \n",
              "6                        -97  ...          14.18           4.23   \n",
              "7                          0  ...           6.25           4.11   \n",
              "8                          0  ...           6.74           2.46   \n",
              "9                         35  ...           7.04           2.11   \n",
              "\n",
              "   WIND_GUST_INSTANTANEOUS_24HR_DEP  WIND_GUST_INSTANTANEOUS_AVG  \\\n",
              "0                             -2.40                         8.19   \n",
              "1                              3.20                        11.39   \n",
              "2                             -3.89                         7.50   \n",
              "3                              0.81                         8.30   \n",
              "4                             -4.54                         3.76   \n",
              "5                              6.52                        10.28   \n",
              "6                             -2.40                         7.88   \n",
              "7                             -2.77                         5.11   \n",
              "8                             -1.13                         3.98   \n",
              "9                              0.60                         4.57   \n",
              "\n",
              "   WIND_GUST_INSTANTANEOUS_MAX  WIND_GUST_INSTANTANEOUS_MIN  \\\n",
              "0                        10.84                         3.73   \n",
              "1                        15.75                         5.44   \n",
              "2                        10.47                         5.12   \n",
              "3                        11.20                         2.88   \n",
              "4                         6.07                         2.06   \n",
              "5                        14.15                         4.05   \n",
              "6                        13.94                         4.09   \n",
              "7                         6.10                         3.94   \n",
              "8                         6.70                         2.21   \n",
              "9                         6.96                         2.13   \n",
              "\n",
              "   WIND_SPEED_24HR_DEP  WIND_SPEED_AVG  WIND_SPEED_MAX WIND_SPEED_MIN  \n",
              "0                -1.51            5.11            7.44           2.27  \n",
              "1                 1.90            7.00            9.30           3.81  \n",
              "2                -2.68            4.32            6.52           2.04  \n",
              "3                 1.16            5.48            7.33           2.03  \n",
              "4                -3.43            2.05            3.03           1.30  \n",
              "5                 4.47            6.51            9.42           2.18  \n",
              "6                -1.56            4.96            9.19           1.67  \n",
              "7                -1.40            3.56            4.76           2.83  \n",
              "8                -1.28            2.29            3.64           1.08  \n",
              "9                 0.46            2.75            3.78           0.77  \n",
              "\n",
              "[10 rows x 158 columns]"
            ],
            "text/html": [
              "\n",
              "  <div id=\"df-2d4c39b0-2230-495a-b567-899a41ec1c8f\" class=\"colab-df-container\">\n",
              "    <div>\n",
              "<style scoped>\n",
              "    .dataframe tbody tr th:only-of-type {\n",
              "        vertical-align: middle;\n",
              "    }\n",
              "\n",
              "    .dataframe tbody tr th {\n",
              "        vertical-align: top;\n",
              "    }\n",
              "\n",
              "    .dataframe thead th {\n",
              "        text-align: right;\n",
              "    }\n",
              "</style>\n",
              "<table border=\"1\" class=\"dataframe\">\n",
              "  <thead>\n",
              "    <tr style=\"text-align: right;\">\n",
              "      <th></th>\n",
              "      <th>DATE</th>\n",
              "      <th>CLOUD_BASE_HEIGHT_24HR_DEP</th>\n",
              "      <th>CLOUD_BASE_HEIGHT_AVG</th>\n",
              "      <th>CLOUD_BASE_HEIGHT_MAX</th>\n",
              "      <th>CLOUD_BASE_HEIGHT_MIN</th>\n",
              "      <th>CLOUD_COVER_24HR_DEP</th>\n",
              "      <th>CLOUD_COVER_AVG</th>\n",
              "      <th>CLOUD_COVER_MAX</th>\n",
              "      <th>CLOUD_COVER_MIN</th>\n",
              "      <th>CLOUD_COVER_PERC_24HR_DEP</th>\n",
              "      <th>...</th>\n",
              "      <th>WIND_GUST_MAX</th>\n",
              "      <th>WIND_GUST_MIN</th>\n",
              "      <th>WIND_GUST_INSTANTANEOUS_24HR_DEP</th>\n",
              "      <th>WIND_GUST_INSTANTANEOUS_AVG</th>\n",
              "      <th>WIND_GUST_INSTANTANEOUS_MAX</th>\n",
              "      <th>WIND_GUST_INSTANTANEOUS_MIN</th>\n",
              "      <th>WIND_SPEED_24HR_DEP</th>\n",
              "      <th>WIND_SPEED_AVG</th>\n",
              "      <th>WIND_SPEED_MAX</th>\n",
              "      <th>WIND_SPEED_MIN</th>\n",
              "    </tr>\n",
              "  </thead>\n",
              "  <tbody>\n",
              "    <tr>\n",
              "      <th>0</th>\n",
              "      <td>2021-03-13</td>\n",
              "      <td>-1376</td>\n",
              "      <td>1063.0</td>\n",
              "      <td>1063.0</td>\n",
              "      <td>1063.0</td>\n",
              "      <td>-0.01</td>\n",
              "      <td>0.18</td>\n",
              "      <td>0.74</td>\n",
              "      <td>0.00</td>\n",
              "      <td>-1</td>\n",
              "      <td>...</td>\n",
              "      <td>11.63</td>\n",
              "      <td>4.30</td>\n",
              "      <td>-2.40</td>\n",
              "      <td>8.19</td>\n",
              "      <td>10.84</td>\n",
              "      <td>3.73</td>\n",
              "      <td>-1.51</td>\n",
              "      <td>5.11</td>\n",
              "      <td>7.44</td>\n",
              "      <td>2.27</td>\n",
              "    </tr>\n",
              "    <tr>\n",
              "      <th>1</th>\n",
              "      <td>2021-03-14</td>\n",
              "      <td>255</td>\n",
              "      <td>1318.0</td>\n",
              "      <td>2482.0</td>\n",
              "      <td>586.0</td>\n",
              "      <td>-0.03</td>\n",
              "      <td>0.15</td>\n",
              "      <td>0.85</td>\n",
              "      <td>0.00</td>\n",
              "      <td>-2</td>\n",
              "      <td>...</td>\n",
              "      <td>15.89</td>\n",
              "      <td>5.55</td>\n",
              "      <td>3.20</td>\n",
              "      <td>11.39</td>\n",
              "      <td>15.75</td>\n",
              "      <td>5.44</td>\n",
              "      <td>1.90</td>\n",
              "      <td>7.00</td>\n",
              "      <td>9.30</td>\n",
              "      <td>3.81</td>\n",
              "    </tr>\n",
              "    <tr>\n",
              "      <th>2</th>\n",
              "      <td>2021-03-15</td>\n",
              "      <td>7448</td>\n",
              "      <td>8767.0</td>\n",
              "      <td>11406.0</td>\n",
              "      <td>6184.0</td>\n",
              "      <td>0.18</td>\n",
              "      <td>0.33</td>\n",
              "      <td>1.00</td>\n",
              "      <td>0.00</td>\n",
              "      <td>18</td>\n",
              "      <td>...</td>\n",
              "      <td>10.45</td>\n",
              "      <td>5.42</td>\n",
              "      <td>-3.89</td>\n",
              "      <td>7.50</td>\n",
              "      <td>10.47</td>\n",
              "      <td>5.12</td>\n",
              "      <td>-2.68</td>\n",
              "      <td>4.32</td>\n",
              "      <td>6.52</td>\n",
              "      <td>2.04</td>\n",
              "    </tr>\n",
              "    <tr>\n",
              "      <th>3</th>\n",
              "      <td>2021-03-16</td>\n",
              "      <td>-6705</td>\n",
              "      <td>2061.0</td>\n",
              "      <td>5232.0</td>\n",
              "      <td>424.0</td>\n",
              "      <td>0.55</td>\n",
              "      <td>0.88</td>\n",
              "      <td>1.00</td>\n",
              "      <td>0.45</td>\n",
              "      <td>55</td>\n",
              "      <td>...</td>\n",
              "      <td>11.48</td>\n",
              "      <td>3.11</td>\n",
              "      <td>0.81</td>\n",
              "      <td>8.30</td>\n",
              "      <td>11.20</td>\n",
              "      <td>2.88</td>\n",
              "      <td>1.16</td>\n",
              "      <td>5.48</td>\n",
              "      <td>7.33</td>\n",
              "      <td>2.03</td>\n",
              "    </tr>\n",
              "    <tr>\n",
              "      <th>4</th>\n",
              "      <td>2021-03-17</td>\n",
              "      <td>639</td>\n",
              "      <td>2700.0</td>\n",
              "      <td>7604.0</td>\n",
              "      <td>680.0</td>\n",
              "      <td>-0.07</td>\n",
              "      <td>0.81</td>\n",
              "      <td>1.00</td>\n",
              "      <td>0.47</td>\n",
              "      <td>-7</td>\n",
              "      <td>...</td>\n",
              "      <td>6.18</td>\n",
              "      <td>2.49</td>\n",
              "      <td>-4.54</td>\n",
              "      <td>3.76</td>\n",
              "      <td>6.07</td>\n",
              "      <td>2.06</td>\n",
              "      <td>-3.43</td>\n",
              "      <td>2.05</td>\n",
              "      <td>3.03</td>\n",
              "      <td>1.30</td>\n",
              "    </tr>\n",
              "    <tr>\n",
              "      <th>5</th>\n",
              "      <td>2021-03-18</td>\n",
              "      <td>774</td>\n",
              "      <td>3475.0</td>\n",
              "      <td>7198.0</td>\n",
              "      <td>879.0</td>\n",
              "      <td>0.17</td>\n",
              "      <td>0.98</td>\n",
              "      <td>1.00</td>\n",
              "      <td>0.53</td>\n",
              "      <td>16</td>\n",
              "      <td>...</td>\n",
              "      <td>14.22</td>\n",
              "      <td>3.58</td>\n",
              "      <td>6.52</td>\n",
              "      <td>10.28</td>\n",
              "      <td>14.15</td>\n",
              "      <td>4.05</td>\n",
              "      <td>4.47</td>\n",
              "      <td>6.51</td>\n",
              "      <td>9.42</td>\n",
              "      <td>2.18</td>\n",
              "    </tr>\n",
              "    <tr>\n",
              "      <th>6</th>\n",
              "      <td>2021-03-19</td>\n",
              "      <td>3927</td>\n",
              "      <td>7402.0</td>\n",
              "      <td>7402.0</td>\n",
              "      <td>7402.0</td>\n",
              "      <td>-0.98</td>\n",
              "      <td>0.00</td>\n",
              "      <td>0.00</td>\n",
              "      <td>0.00</td>\n",
              "      <td>-97</td>\n",
              "      <td>...</td>\n",
              "      <td>14.18</td>\n",
              "      <td>4.23</td>\n",
              "      <td>-2.40</td>\n",
              "      <td>7.88</td>\n",
              "      <td>13.94</td>\n",
              "      <td>4.09</td>\n",
              "      <td>-1.56</td>\n",
              "      <td>4.96</td>\n",
              "      <td>9.19</td>\n",
              "      <td>1.67</td>\n",
              "    </tr>\n",
              "    <tr>\n",
              "      <th>7</th>\n",
              "      <td>2021-03-20</td>\n",
              "      <td>4789</td>\n",
              "      <td>NaN</td>\n",
              "      <td>NaN</td>\n",
              "      <td>NaN</td>\n",
              "      <td>0.01</td>\n",
              "      <td>0.01</td>\n",
              "      <td>0.09</td>\n",
              "      <td>0.00</td>\n",
              "      <td>0</td>\n",
              "      <td>...</td>\n",
              "      <td>6.25</td>\n",
              "      <td>4.11</td>\n",
              "      <td>-2.77</td>\n",
              "      <td>5.11</td>\n",
              "      <td>6.10</td>\n",
              "      <td>3.94</td>\n",
              "      <td>-1.40</td>\n",
              "      <td>3.56</td>\n",
              "      <td>4.76</td>\n",
              "      <td>2.83</td>\n",
              "    </tr>\n",
              "    <tr>\n",
              "      <th>8</th>\n",
              "      <td>2021-03-21</td>\n",
              "      <td>0</td>\n",
              "      <td>NaN</td>\n",
              "      <td>NaN</td>\n",
              "      <td>NaN</td>\n",
              "      <td>-0.01</td>\n",
              "      <td>0.00</td>\n",
              "      <td>0.00</td>\n",
              "      <td>0.00</td>\n",
              "      <td>0</td>\n",
              "      <td>...</td>\n",
              "      <td>6.74</td>\n",
              "      <td>2.46</td>\n",
              "      <td>-1.13</td>\n",
              "      <td>3.98</td>\n",
              "      <td>6.70</td>\n",
              "      <td>2.21</td>\n",
              "      <td>-1.28</td>\n",
              "      <td>2.29</td>\n",
              "      <td>3.64</td>\n",
              "      <td>1.08</td>\n",
              "    </tr>\n",
              "    <tr>\n",
              "      <th>9</th>\n",
              "      <td>2021-03-22</td>\n",
              "      <td>-4037</td>\n",
              "      <td>8154.0</td>\n",
              "      <td>9551.0</td>\n",
              "      <td>7320.0</td>\n",
              "      <td>0.36</td>\n",
              "      <td>0.36</td>\n",
              "      <td>0.99</td>\n",
              "      <td>0.00</td>\n",
              "      <td>35</td>\n",
              "      <td>...</td>\n",
              "      <td>7.04</td>\n",
              "      <td>2.11</td>\n",
              "      <td>0.60</td>\n",
              "      <td>4.57</td>\n",
              "      <td>6.96</td>\n",
              "      <td>2.13</td>\n",
              "      <td>0.46</td>\n",
              "      <td>2.75</td>\n",
              "      <td>3.78</td>\n",
              "      <td>0.77</td>\n",
              "    </tr>\n",
              "  </tbody>\n",
              "</table>\n",
              "<p>10 rows × 158 columns</p>\n",
              "</div>\n",
              "    <div class=\"colab-df-buttons\">\n",
              "\n",
              "  <div class=\"colab-df-container\">\n",
              "    <button class=\"colab-df-convert\" onclick=\"convertToInteractive('df-2d4c39b0-2230-495a-b567-899a41ec1c8f')\"\n",
              "            title=\"Convert this dataframe to an interactive table.\"\n",
              "            style=\"display:none;\">\n",
              "\n",
              "  <svg xmlns=\"http://www.w3.org/2000/svg\" height=\"24px\" viewBox=\"0 -960 960 960\">\n",
              "    <path d=\"M120-120v-720h720v720H120Zm60-500h600v-160H180v160Zm220 220h160v-160H400v160Zm0 220h160v-160H400v160ZM180-400h160v-160H180v160Zm440 0h160v-160H620v160ZM180-180h160v-160H180v160Zm440 0h160v-160H620v160Z\"/>\n",
              "  </svg>\n",
              "    </button>\n",
              "\n",
              "  <style>\n",
              "    .colab-df-container {\n",
              "      display:flex;\n",
              "      gap: 12px;\n",
              "    }\n",
              "\n",
              "    .colab-df-convert {\n",
              "      background-color: #E8F0FE;\n",
              "      border: none;\n",
              "      border-radius: 50%;\n",
              "      cursor: pointer;\n",
              "      display: none;\n",
              "      fill: #1967D2;\n",
              "      height: 32px;\n",
              "      padding: 0 0 0 0;\n",
              "      width: 32px;\n",
              "    }\n",
              "\n",
              "    .colab-df-convert:hover {\n",
              "      background-color: #E2EBFA;\n",
              "      box-shadow: 0px 1px 2px rgba(60, 64, 67, 0.3), 0px 1px 3px 1px rgba(60, 64, 67, 0.15);\n",
              "      fill: #174EA6;\n",
              "    }\n",
              "\n",
              "    .colab-df-buttons div {\n",
              "      margin-bottom: 4px;\n",
              "    }\n",
              "\n",
              "    [theme=dark] .colab-df-convert {\n",
              "      background-color: #3B4455;\n",
              "      fill: #D2E3FC;\n",
              "    }\n",
              "\n",
              "    [theme=dark] .colab-df-convert:hover {\n",
              "      background-color: #434B5C;\n",
              "      box-shadow: 0px 1px 3px 1px rgba(0, 0, 0, 0.15);\n",
              "      filter: drop-shadow(0px 1px 2px rgba(0, 0, 0, 0.3));\n",
              "      fill: #FFFFFF;\n",
              "    }\n",
              "  </style>\n",
              "\n",
              "    <script>\n",
              "      const buttonEl =\n",
              "        document.querySelector('#df-2d4c39b0-2230-495a-b567-899a41ec1c8f button.colab-df-convert');\n",
              "      buttonEl.style.display =\n",
              "        google.colab.kernel.accessAllowed ? 'block' : 'none';\n",
              "\n",
              "      async function convertToInteractive(key) {\n",
              "        const element = document.querySelector('#df-2d4c39b0-2230-495a-b567-899a41ec1c8f');\n",
              "        const dataTable =\n",
              "          await google.colab.kernel.invokeFunction('convertToInteractive',\n",
              "                                                    [key], {});\n",
              "        if (!dataTable) return;\n",
              "\n",
              "        const docLinkHtml = 'Like what you see? Visit the ' +\n",
              "          '<a target=\"_blank\" href=https://colab.research.google.com/notebooks/data_table.ipynb>data table notebook</a>'\n",
              "          + ' to learn more about interactive tables.';\n",
              "        element.innerHTML = '';\n",
              "        dataTable['output_type'] = 'display_data';\n",
              "        await google.colab.output.renderOutput(dataTable, element);\n",
              "        const docLink = document.createElement('div');\n",
              "        docLink.innerHTML = docLinkHtml;\n",
              "        element.appendChild(docLink);\n",
              "      }\n",
              "    </script>\n",
              "  </div>\n",
              "\n",
              "\n",
              "<div id=\"df-69b8878a-0abb-44d6-a601-244d05de8529\">\n",
              "  <button class=\"colab-df-quickchart\" onclick=\"quickchart('df-69b8878a-0abb-44d6-a601-244d05de8529')\"\n",
              "            title=\"Suggest charts\"\n",
              "            style=\"display:none;\">\n",
              "\n",
              "<svg xmlns=\"http://www.w3.org/2000/svg\" height=\"24px\"viewBox=\"0 0 24 24\"\n",
              "     width=\"24px\">\n",
              "    <g>\n",
              "        <path d=\"M19 3H5c-1.1 0-2 .9-2 2v14c0 1.1.9 2 2 2h14c1.1 0 2-.9 2-2V5c0-1.1-.9-2-2-2zM9 17H7v-7h2v7zm4 0h-2V7h2v10zm4 0h-2v-4h2v4z\"/>\n",
              "    </g>\n",
              "</svg>\n",
              "  </button>\n",
              "\n",
              "<style>\n",
              "  .colab-df-quickchart {\n",
              "      --bg-color: #E8F0FE;\n",
              "      --fill-color: #1967D2;\n",
              "      --hover-bg-color: #E2EBFA;\n",
              "      --hover-fill-color: #174EA6;\n",
              "      --disabled-fill-color: #AAA;\n",
              "      --disabled-bg-color: #DDD;\n",
              "  }\n",
              "\n",
              "  [theme=dark] .colab-df-quickchart {\n",
              "      --bg-color: #3B4455;\n",
              "      --fill-color: #D2E3FC;\n",
              "      --hover-bg-color: #434B5C;\n",
              "      --hover-fill-color: #FFFFFF;\n",
              "      --disabled-bg-color: #3B4455;\n",
              "      --disabled-fill-color: #666;\n",
              "  }\n",
              "\n",
              "  .colab-df-quickchart {\n",
              "    background-color: var(--bg-color);\n",
              "    border: none;\n",
              "    border-radius: 50%;\n",
              "    cursor: pointer;\n",
              "    display: none;\n",
              "    fill: var(--fill-color);\n",
              "    height: 32px;\n",
              "    padding: 0;\n",
              "    width: 32px;\n",
              "  }\n",
              "\n",
              "  .colab-df-quickchart:hover {\n",
              "    background-color: var(--hover-bg-color);\n",
              "    box-shadow: 0 1px 2px rgba(60, 64, 67, 0.3), 0 1px 3px 1px rgba(60, 64, 67, 0.15);\n",
              "    fill: var(--button-hover-fill-color);\n",
              "  }\n",
              "\n",
              "  .colab-df-quickchart-complete:disabled,\n",
              "  .colab-df-quickchart-complete:disabled:hover {\n",
              "    background-color: var(--disabled-bg-color);\n",
              "    fill: var(--disabled-fill-color);\n",
              "    box-shadow: none;\n",
              "  }\n",
              "\n",
              "  .colab-df-spinner {\n",
              "    border: 2px solid var(--fill-color);\n",
              "    border-color: transparent;\n",
              "    border-bottom-color: var(--fill-color);\n",
              "    animation:\n",
              "      spin 1s steps(1) infinite;\n",
              "  }\n",
              "\n",
              "  @keyframes spin {\n",
              "    0% {\n",
              "      border-color: transparent;\n",
              "      border-bottom-color: var(--fill-color);\n",
              "      border-left-color: var(--fill-color);\n",
              "    }\n",
              "    20% {\n",
              "      border-color: transparent;\n",
              "      border-left-color: var(--fill-color);\n",
              "      border-top-color: var(--fill-color);\n",
              "    }\n",
              "    30% {\n",
              "      border-color: transparent;\n",
              "      border-left-color: var(--fill-color);\n",
              "      border-top-color: var(--fill-color);\n",
              "      border-right-color: var(--fill-color);\n",
              "    }\n",
              "    40% {\n",
              "      border-color: transparent;\n",
              "      border-right-color: var(--fill-color);\n",
              "      border-top-color: var(--fill-color);\n",
              "    }\n",
              "    60% {\n",
              "      border-color: transparent;\n",
              "      border-right-color: var(--fill-color);\n",
              "    }\n",
              "    80% {\n",
              "      border-color: transparent;\n",
              "      border-right-color: var(--fill-color);\n",
              "      border-bottom-color: var(--fill-color);\n",
              "    }\n",
              "    90% {\n",
              "      border-color: transparent;\n",
              "      border-bottom-color: var(--fill-color);\n",
              "    }\n",
              "  }\n",
              "</style>\n",
              "\n",
              "  <script>\n",
              "    async function quickchart(key) {\n",
              "      const quickchartButtonEl =\n",
              "        document.querySelector('#' + key + ' button');\n",
              "      quickchartButtonEl.disabled = true;  // To prevent multiple clicks.\n",
              "      quickchartButtonEl.classList.add('colab-df-spinner');\n",
              "      try {\n",
              "        const charts = await google.colab.kernel.invokeFunction(\n",
              "            'suggestCharts', [key], {});\n",
              "      } catch (error) {\n",
              "        console.error('Error during call to suggestCharts:', error);\n",
              "      }\n",
              "      quickchartButtonEl.classList.remove('colab-df-spinner');\n",
              "      quickchartButtonEl.classList.add('colab-df-quickchart-complete');\n",
              "    }\n",
              "    (() => {\n",
              "      let quickchartButtonEl =\n",
              "        document.querySelector('#df-69b8878a-0abb-44d6-a601-244d05de8529 button');\n",
              "      quickchartButtonEl.style.display =\n",
              "        google.colab.kernel.accessAllowed ? 'block' : 'none';\n",
              "    })();\n",
              "  </script>\n",
              "</div>\n",
              "\n",
              "    </div>\n",
              "  </div>\n"
            ],
            "application/vnd.google.colaboratory.intrinsic+json": {
              "type": "dataframe",
              "variable_name": "weather_data"
            }
          },
          "metadata": {},
          "execution_count": 29
        }
      ],
      "source": [
        "weather_data.head(10) #exploring weather_data"
      ]
    },
    {
      "cell_type": "code",
      "execution_count": null,
      "id": "9ce9c124",
      "metadata": {
        "colab": {
          "base_uri": "https://localhost:8080/",
          "height": 1000
        },
        "id": "9ce9c124",
        "outputId": "fb740818-58a6-402e-9e56-d2d1e6d703bb"
      },
      "outputs": [
        {
          "output_type": "execute_result",
          "data": {
            "text/plain": [
              "TEMPERATURE_WIND_CHILL_MAX        450\n",
              "TEMPERATURE_WIND_CHILL_MIN        450\n",
              "HAS_FREEZING_RAIN                 164\n",
              "FREEZING_RAIN_LWE_TOTAL           164\n",
              "FREEZING_RAIN_LWE_RATE_AVG        164\n",
              "FREEZING_RAIN_LWE_RATE_MAX        164\n",
              "FREEZING_RAIN_LWE_RATE_MIN        164\n",
              "HAS_ICE                           164\n",
              "ICE_LWE_TOTAL                     164\n",
              "ICE_LWE_RATE_AVG                  164\n",
              "ICE_LWE_RATE_MAX                  164\n",
              "ICE_LWE_RATE_MIN                  164\n",
              "MINUTES_OF_FREEZING_RAIN_TOTAL    164\n",
              "MINUTES_OF_ICE_TOTAL              164\n",
              "MINUTES_OF_RAIN_TOTAL             164\n",
              "MINUTES_OF_SLEET_TOTAL            164\n",
              "MINUTES_OF_SNOW_TOTAL             164\n",
              "MOISTURE_SOIL_AVG                 164\n",
              "MOISTURE_SOIL_MAX                 164\n",
              "MOISTURE_SOIL_MIN                 164\n",
              "HAS_RAIN                          164\n",
              "RAIN_LWE_TOTAL                    164\n",
              "RAIN_LWE_RATE_AVG                 164\n",
              "RAIN_LWE_RATE_MAX                 164\n",
              "RAIN_LWE_RATE_MIN                 164\n",
              "HAS_SLEET                         164\n",
              "SLEET_LWE_TOTAL                   164\n",
              "SLEET_LWE_RATE_AVG                164\n",
              "SLEET_LWE_RATE_MAX                164\n",
              "SLEET_LWE_RATE_MIN                164\n",
              "SNOW_TOTAL                        164\n",
              "SNOW_AVG                          164\n",
              "SNOW_MAX                          164\n",
              "SNOW_MIN                          164\n",
              "SNOW_COVER_24HR_DEP               164\n",
              "dtype: int64"
            ],
            "text/html": [
              "<div>\n",
              "<style scoped>\n",
              "    .dataframe tbody tr th:only-of-type {\n",
              "        vertical-align: middle;\n",
              "    }\n",
              "\n",
              "    .dataframe tbody tr th {\n",
              "        vertical-align: top;\n",
              "    }\n",
              "\n",
              "    .dataframe thead th {\n",
              "        text-align: right;\n",
              "    }\n",
              "</style>\n",
              "<table border=\"1\" class=\"dataframe\">\n",
              "  <thead>\n",
              "    <tr style=\"text-align: right;\">\n",
              "      <th></th>\n",
              "      <th>0</th>\n",
              "    </tr>\n",
              "  </thead>\n",
              "  <tbody>\n",
              "    <tr>\n",
              "      <th>TEMPERATURE_WIND_CHILL_MAX</th>\n",
              "      <td>450</td>\n",
              "    </tr>\n",
              "    <tr>\n",
              "      <th>TEMPERATURE_WIND_CHILL_MIN</th>\n",
              "      <td>450</td>\n",
              "    </tr>\n",
              "    <tr>\n",
              "      <th>HAS_FREEZING_RAIN</th>\n",
              "      <td>164</td>\n",
              "    </tr>\n",
              "    <tr>\n",
              "      <th>FREEZING_RAIN_LWE_TOTAL</th>\n",
              "      <td>164</td>\n",
              "    </tr>\n",
              "    <tr>\n",
              "      <th>FREEZING_RAIN_LWE_RATE_AVG</th>\n",
              "      <td>164</td>\n",
              "    </tr>\n",
              "    <tr>\n",
              "      <th>FREEZING_RAIN_LWE_RATE_MAX</th>\n",
              "      <td>164</td>\n",
              "    </tr>\n",
              "    <tr>\n",
              "      <th>FREEZING_RAIN_LWE_RATE_MIN</th>\n",
              "      <td>164</td>\n",
              "    </tr>\n",
              "    <tr>\n",
              "      <th>HAS_ICE</th>\n",
              "      <td>164</td>\n",
              "    </tr>\n",
              "    <tr>\n",
              "      <th>ICE_LWE_TOTAL</th>\n",
              "      <td>164</td>\n",
              "    </tr>\n",
              "    <tr>\n",
              "      <th>ICE_LWE_RATE_AVG</th>\n",
              "      <td>164</td>\n",
              "    </tr>\n",
              "    <tr>\n",
              "      <th>ICE_LWE_RATE_MAX</th>\n",
              "      <td>164</td>\n",
              "    </tr>\n",
              "    <tr>\n",
              "      <th>ICE_LWE_RATE_MIN</th>\n",
              "      <td>164</td>\n",
              "    </tr>\n",
              "    <tr>\n",
              "      <th>MINUTES_OF_FREEZING_RAIN_TOTAL</th>\n",
              "      <td>164</td>\n",
              "    </tr>\n",
              "    <tr>\n",
              "      <th>MINUTES_OF_ICE_TOTAL</th>\n",
              "      <td>164</td>\n",
              "    </tr>\n",
              "    <tr>\n",
              "      <th>MINUTES_OF_RAIN_TOTAL</th>\n",
              "      <td>164</td>\n",
              "    </tr>\n",
              "    <tr>\n",
              "      <th>MINUTES_OF_SLEET_TOTAL</th>\n",
              "      <td>164</td>\n",
              "    </tr>\n",
              "    <tr>\n",
              "      <th>MINUTES_OF_SNOW_TOTAL</th>\n",
              "      <td>164</td>\n",
              "    </tr>\n",
              "    <tr>\n",
              "      <th>MOISTURE_SOIL_AVG</th>\n",
              "      <td>164</td>\n",
              "    </tr>\n",
              "    <tr>\n",
              "      <th>MOISTURE_SOIL_MAX</th>\n",
              "      <td>164</td>\n",
              "    </tr>\n",
              "    <tr>\n",
              "      <th>MOISTURE_SOIL_MIN</th>\n",
              "      <td>164</td>\n",
              "    </tr>\n",
              "    <tr>\n",
              "      <th>HAS_RAIN</th>\n",
              "      <td>164</td>\n",
              "    </tr>\n",
              "    <tr>\n",
              "      <th>RAIN_LWE_TOTAL</th>\n",
              "      <td>164</td>\n",
              "    </tr>\n",
              "    <tr>\n",
              "      <th>RAIN_LWE_RATE_AVG</th>\n",
              "      <td>164</td>\n",
              "    </tr>\n",
              "    <tr>\n",
              "      <th>RAIN_LWE_RATE_MAX</th>\n",
              "      <td>164</td>\n",
              "    </tr>\n",
              "    <tr>\n",
              "      <th>RAIN_LWE_RATE_MIN</th>\n",
              "      <td>164</td>\n",
              "    </tr>\n",
              "    <tr>\n",
              "      <th>HAS_SLEET</th>\n",
              "      <td>164</td>\n",
              "    </tr>\n",
              "    <tr>\n",
              "      <th>SLEET_LWE_TOTAL</th>\n",
              "      <td>164</td>\n",
              "    </tr>\n",
              "    <tr>\n",
              "      <th>SLEET_LWE_RATE_AVG</th>\n",
              "      <td>164</td>\n",
              "    </tr>\n",
              "    <tr>\n",
              "      <th>SLEET_LWE_RATE_MAX</th>\n",
              "      <td>164</td>\n",
              "    </tr>\n",
              "    <tr>\n",
              "      <th>SLEET_LWE_RATE_MIN</th>\n",
              "      <td>164</td>\n",
              "    </tr>\n",
              "    <tr>\n",
              "      <th>SNOW_TOTAL</th>\n",
              "      <td>164</td>\n",
              "    </tr>\n",
              "    <tr>\n",
              "      <th>SNOW_AVG</th>\n",
              "      <td>164</td>\n",
              "    </tr>\n",
              "    <tr>\n",
              "      <th>SNOW_MAX</th>\n",
              "      <td>164</td>\n",
              "    </tr>\n",
              "    <tr>\n",
              "      <th>SNOW_MIN</th>\n",
              "      <td>164</td>\n",
              "    </tr>\n",
              "    <tr>\n",
              "      <th>SNOW_COVER_24HR_DEP</th>\n",
              "      <td>164</td>\n",
              "    </tr>\n",
              "  </tbody>\n",
              "</table>\n",
              "</div><br><label><b>dtype:</b> int64</label>"
            ]
          },
          "metadata": {},
          "execution_count": 30
        }
      ],
      "source": [
        "weather_data.isna().sum().nlargest(35)    #lots of null values in these columns"
      ]
    },
    {
      "cell_type": "code",
      "execution_count": null,
      "id": "3e7b4734",
      "metadata": {
        "colab": {
          "base_uri": "https://localhost:8080/",
          "height": 178
        },
        "id": "3e7b4734",
        "outputId": "57e93887-83b0-4622-c0ff-111f0eba00c9"
      },
      "outputs": [
        {
          "output_type": "execute_result",
          "data": {
            "text/plain": [
              "HAS_FREEZING_RAIN\n",
              "False    878\n",
              "True      54\n",
              "Name: count, dtype: int64"
            ],
            "text/html": [
              "<div>\n",
              "<style scoped>\n",
              "    .dataframe tbody tr th:only-of-type {\n",
              "        vertical-align: middle;\n",
              "    }\n",
              "\n",
              "    .dataframe tbody tr th {\n",
              "        vertical-align: top;\n",
              "    }\n",
              "\n",
              "    .dataframe thead th {\n",
              "        text-align: right;\n",
              "    }\n",
              "</style>\n",
              "<table border=\"1\" class=\"dataframe\">\n",
              "  <thead>\n",
              "    <tr style=\"text-align: right;\">\n",
              "      <th></th>\n",
              "      <th>count</th>\n",
              "    </tr>\n",
              "    <tr>\n",
              "      <th>HAS_FREEZING_RAIN</th>\n",
              "      <th></th>\n",
              "    </tr>\n",
              "  </thead>\n",
              "  <tbody>\n",
              "    <tr>\n",
              "      <th>False</th>\n",
              "      <td>878</td>\n",
              "    </tr>\n",
              "    <tr>\n",
              "      <th>True</th>\n",
              "      <td>54</td>\n",
              "    </tr>\n",
              "  </tbody>\n",
              "</table>\n",
              "</div><br><label><b>dtype:</b> int64</label>"
            ]
          },
          "metadata": {},
          "execution_count": 31
        }
      ],
      "source": [
        "weather_data['HAS_FREEZING_RAIN'].value_counts() #freezing rain data very skewed.this is the case for several features"
      ]
    },
    {
      "cell_type": "code",
      "execution_count": null,
      "id": "088f5fcc",
      "metadata": {
        "colab": {
          "base_uri": "https://localhost:8080/",
          "height": 482
        },
        "id": "088f5fcc",
        "outputId": "419cc21f-c427-4463-d081-a0bce9d19c34"
      },
      "outputs": [
        {
          "output_type": "execute_result",
          "data": {
            "text/plain": [
              "<Axes: xlabel='HAS_FREEZING_RAIN', ylabel='count'>"
            ]
          },
          "metadata": {},
          "execution_count": 32
        },
        {
          "output_type": "display_data",
          "data": {
            "text/plain": [
              "<Figure size 1200x500 with 1 Axes>"
            ],
            "image/png": "[encoded data removed]"
          },
          "metadata": {}
        }
      ],
      "source": [
        "sns.countplot(x='HAS_FREEZING_RAIN', data=weather_data) #this represents real life conditions since it doesnt have freezing rain so often\n"
      ]
    },
    {
      "cell_type": "code",
      "execution_count": null,
      "id": "891d5684",
      "metadata": {
        "colab": {
          "base_uri": "https://localhost:8080/",
          "height": 304
        },
        "id": "891d5684",
        "outputId": "9ff9f600-52ab-428a-9cdd-c4e6f82432e8"
      },
      "outputs": [
        {
          "output_type": "error",
          "ename": "ValueError",
          "evalue": "could not convert string to float: '2021-03-13'",
          "traceback": [
            "\u001b[0;31m---------------------------------------------------------------------------\u001b[0m",
            "\u001b[0;31mValueError\u001b[0m                                Traceback (most recent call last)",
            "\u001b[0;32m<ipython-input-33-f9d1b8fd9778>\u001b[0m in \u001b[0;36m<cell line: 1>\u001b[0;34m()\u001b[0m\n\u001b[0;32m----> 1\u001b[0;31m \u001b[0mcorr_matrix\u001b[0m \u001b[0;34m=\u001b[0m\u001b[0mweather_data\u001b[0m\u001b[0;34m.\u001b[0m\u001b[0mcorr\u001b[0m\u001b[0;34m(\u001b[0m\u001b[0;34m)\u001b[0m\u001b[0;34m.\u001b[0m\u001b[0mabs\u001b[0m\u001b[0;34m(\u001b[0m\u001b[0;34m)\u001b[0m \u001b[0;31m#exploring correlations .too many features for heatmaps just yet\u001b[0m\u001b[0;34m\u001b[0m\u001b[0;34m\u001b[0m\u001b[0m\n\u001b[0m\u001b[1;32m      2\u001b[0m \u001b[0mcorr_matrix\u001b[0m\u001b[0;34m[\u001b[0m\u001b[0;34m'CLOUD_BASE_HEIGHT_AVG'\u001b[0m\u001b[0;34m]\u001b[0m\u001b[0;34m\u001b[0m\u001b[0;34m\u001b[0m\u001b[0m\n",
            "\u001b[0;32m/usr/local/lib/python3.10/dist-packages/pandas/core/frame.py\u001b[0m in \u001b[0;36mcorr\u001b[0;34m(self, method, min_periods, numeric_only)\u001b[0m\n\u001b[1;32m  10702\u001b[0m         \u001b[0mcols\u001b[0m \u001b[0;34m=\u001b[0m \u001b[0mdata\u001b[0m\u001b[0;34m.\u001b[0m\u001b[0mcolumns\u001b[0m\u001b[0;34m\u001b[0m\u001b[0;34m\u001b[0m\u001b[0m\n\u001b[1;32m  10703\u001b[0m         \u001b[0midx\u001b[0m \u001b[0;34m=\u001b[0m \u001b[0mcols\u001b[0m\u001b[0;34m.\u001b[0m\u001b[0mcopy\u001b[0m\u001b[0;34m(\u001b[0m\u001b[0;34m)\u001b[0m\u001b[0;34m\u001b[0m\u001b[0;34m\u001b[0m\u001b[0m\n\u001b[0;32m> 10704\u001b[0;31m         \u001b[0mmat\u001b[0m \u001b[0;34m=\u001b[0m \u001b[0mdata\u001b[0m\u001b[0;34m.\u001b[0m\u001b[0mto_numpy\u001b[0m\u001b[0;34m(\u001b[0m\u001b[0mdtype\u001b[0m\u001b[0;34m=\u001b[0m\u001b[0mfloat\u001b[0m\u001b[0;34m,\u001b[0m \u001b[0mna_value\u001b[0m\u001b[0;34m=\u001b[0m\u001b[0mnp\u001b[0m\u001b[0;34m.\u001b[0m\u001b[0mnan\u001b[0m\u001b[0;34m,\u001b[0m \u001b[0mcopy\u001b[0m\u001b[0;34m=\u001b[0m\u001b[0;32mFalse\u001b[0m\u001b[0;34m)\u001b[0m\u001b[0;34m\u001b[0m\u001b[0;34m\u001b[0m\u001b[0m\n\u001b[0m\u001b[1;32m  10705\u001b[0m \u001b[0;34m\u001b[0m\u001b[0m\n\u001b[1;32m  10706\u001b[0m         \u001b[0;32mif\u001b[0m \u001b[0mmethod\u001b[0m \u001b[0;34m==\u001b[0m \u001b[0;34m\"pearson\"\u001b[0m\u001b[0;34m:\u001b[0m\u001b[0;34m\u001b[0m\u001b[0;34m\u001b[0m\u001b[0m\n",
            "\u001b[0;32m/usr/local/lib/python3.10/dist-packages/pandas/core/frame.py\u001b[0m in \u001b[0;36mto_numpy\u001b[0;34m(self, dtype, copy, na_value)\u001b[0m\n\u001b[1;32m   1887\u001b[0m         \u001b[0;32mif\u001b[0m \u001b[0mdtype\u001b[0m \u001b[0;32mis\u001b[0m \u001b[0;32mnot\u001b[0m \u001b[0;32mNone\u001b[0m\u001b[0;34m:\u001b[0m\u001b[0;34m\u001b[0m\u001b[0;34m\u001b[0m\u001b[0m\n\u001b[1;32m   1888\u001b[0m             \u001b[0mdtype\u001b[0m \u001b[0;34m=\u001b[0m \u001b[0mnp\u001b[0m\u001b[0;34m.\u001b[0m\u001b[0mdtype\u001b[0m\u001b[0;34m(\u001b[0m\u001b[0mdtype\u001b[0m\u001b[0;34m)\u001b[0m\u001b[0;34m\u001b[0m\u001b[0;34m\u001b[0m\u001b[0m\n\u001b[0;32m-> 1889\u001b[0;31m         \u001b[0mresult\u001b[0m \u001b[0;34m=\u001b[0m \u001b[0mself\u001b[0m\u001b[0;34m.\u001b[0m\u001b[0m_mgr\u001b[0m\u001b[0;34m.\u001b[0m\u001b[0mas_array\u001b[0m\u001b[0;34m(\u001b[0m\u001b[0mdtype\u001b[0m\u001b[0;34m=\u001b[0m\u001b[0mdtype\u001b[0m\u001b[0;34m,\u001b[0m \u001b[0mcopy\u001b[0m\u001b[0;34m=\u001b[0m\u001b[0mcopy\u001b[0m\u001b[0;34m,\u001b[0m \u001b[0mna_value\u001b[0m\u001b[0;34m=\u001b[0m\u001b[0mna_value\u001b[0m\u001b[0;34m)\u001b[0m\u001b[0;34m\u001b[0m\u001b[0;34m\u001b[0m\u001b[0m\n\u001b[0m\u001b[1;32m   1890\u001b[0m         \u001b[0;32mif\u001b[0m \u001b[0mresult\u001b[0m\u001b[0;34m.\u001b[0m\u001b[0mdtype\u001b[0m \u001b[0;32mis\u001b[0m \u001b[0;32mnot\u001b[0m \u001b[0mdtype\u001b[0m\u001b[0;34m:\u001b[0m\u001b[0;34m\u001b[0m\u001b[0;34m\u001b[0m\u001b[0m\n\u001b[1;32m   1891\u001b[0m             \u001b[0mresult\u001b[0m \u001b[0;34m=\u001b[0m \u001b[0mnp\u001b[0m\u001b[0;34m.\u001b[0m\u001b[0marray\u001b[0m\u001b[0;34m(\u001b[0m\u001b[0mresult\u001b[0m\u001b[0;34m,\u001b[0m \u001b[0mdtype\u001b[0m\u001b[0;34m=\u001b[0m\u001b[0mdtype\u001b[0m\u001b[0;34m,\u001b[0m \u001b[0mcopy\u001b[0m\u001b[0;34m=\u001b[0m\u001b[0;32mFalse\u001b[0m\u001b[0;34m)\u001b[0m\u001b[0;34m\u001b[0m\u001b[0;34m\u001b[0m\u001b[0m\n",
            "\u001b[0;32m/usr/local/lib/python3.10/dist-packages/pandas/core/internals/managers.py\u001b[0m in \u001b[0;36mas_array\u001b[0;34m(self, dtype, copy, na_value)\u001b[0m\n\u001b[1;32m   1654\u001b[0m                 \u001b[0marr\u001b[0m\u001b[0;34m.\u001b[0m\u001b[0mflags\u001b[0m\u001b[0;34m.\u001b[0m\u001b[0mwriteable\u001b[0m \u001b[0;34m=\u001b[0m \u001b[0;32mFalse\u001b[0m\u001b[0;34m\u001b[0m\u001b[0;34m\u001b[0m\u001b[0m\n\u001b[1;32m   1655\u001b[0m         \u001b[0;32melse\u001b[0m\u001b[0;34m:\u001b[0m\u001b[0;34m\u001b[0m\u001b[0;34m\u001b[0m\u001b[0m\n\u001b[0;32m-> 1656\u001b[0;31m             \u001b[0marr\u001b[0m \u001b[0;34m=\u001b[0m \u001b[0mself\u001b[0m\u001b[0;34m.\u001b[0m\u001b[0m_interleave\u001b[0m\u001b[0;34m(\u001b[0m\u001b[0mdtype\u001b[0m\u001b[0;34m=\u001b[0m\u001b[0mdtype\u001b[0m\u001b[0;34m,\u001b[0m \u001b[0mna_value\u001b[0m\u001b[0;34m=\u001b[0m\u001b[0mna_value\u001b[0m\u001b[0;34m)\u001b[0m\u001b[0;34m\u001b[0m\u001b[0;34m\u001b[0m\u001b[0m\n\u001b[0m\u001b[1;32m   1657\u001b[0m             \u001b[0;31m# The underlying data was copied within _interleave, so no need\u001b[0m\u001b[0;34m\u001b[0m\u001b[0;34m\u001b[0m\u001b[0m\n\u001b[1;32m   1658\u001b[0m             \u001b[0;31m# to further copy if copy=True or setting na_value\u001b[0m\u001b[0;34m\u001b[0m\u001b[0;34m\u001b[0m\u001b[0m\n",
            "\u001b[0;32m/usr/local/lib/python3.10/dist-packages/pandas/core/internals/managers.py\u001b[0m in \u001b[0;36m_interleave\u001b[0;34m(self, dtype, na_value)\u001b[0m\n\u001b[1;32m   1713\u001b[0m             \u001b[0;32melse\u001b[0m\u001b[0;34m:\u001b[0m\u001b[0;34m\u001b[0m\u001b[0;34m\u001b[0m\u001b[0m\n\u001b[1;32m   1714\u001b[0m                 \u001b[0marr\u001b[0m \u001b[0;34m=\u001b[0m \u001b[0mblk\u001b[0m\u001b[0;34m.\u001b[0m\u001b[0mget_values\u001b[0m\u001b[0;34m(\u001b[0m\u001b[0mdtype\u001b[0m\u001b[0;34m)\u001b[0m\u001b[0;34m\u001b[0m\u001b[0;34m\u001b[0m\u001b[0m\n\u001b[0;32m-> 1715\u001b[0;31m             \u001b[0mresult\u001b[0m\u001b[0;34m[\u001b[0m\u001b[0mrl\u001b[0m\u001b[0;34m.\u001b[0m\u001b[0mindexer\u001b[0m\u001b[0;34m]\u001b[0m \u001b[0;34m=\u001b[0m \u001b[0marr\u001b[0m\u001b[0;34m\u001b[0m\u001b[0;34m\u001b[0m\u001b[0m\n\u001b[0m\u001b[1;32m   1716\u001b[0m             \u001b[0mitemmask\u001b[0m\u001b[0;34m[\u001b[0m\u001b[0mrl\u001b[0m\u001b[0;34m.\u001b[0m\u001b[0mindexer\u001b[0m\u001b[0;34m]\u001b[0m \u001b[0;34m=\u001b[0m \u001b[0;36m1\u001b[0m\u001b[0;34m\u001b[0m\u001b[0;34m\u001b[0m\u001b[0m\n\u001b[1;32m   1717\u001b[0m \u001b[0;34m\u001b[0m\u001b[0m\n",
            "\u001b[0;31mValueError\u001b[0m: could not convert string to float: '2021-03-13'"
          ]
        }
      ],
      "source": [
        "corr_matrix =weather_data.corr().abs() #exploring correlations .too many features for heatmaps just yet\n",
        "corr_matrix['CLOUD_BASE_HEIGHT_AVG']"
      ]
    },
    {
      "cell_type": "markdown",
      "id": "6fdb0d02",
      "metadata": {
        "id": "6fdb0d02"
      },
      "source": [
        "# DEALING WITH MULTICOLLINEARITY\n"
      ]
    },
    {
      "cell_type": "markdown",
      "id": "c1ced504",
      "metadata": {
        "id": "c1ced504"
      },
      "source": [
        "#### Multicollinearity occurs when independent variables in a regression model are highly correlated with each other. This can lead to issues in the interpretation of coefficients and can inflate the standard errors of the coefficients, making them unreliable. To address multicollinearity, create a correlation map between features to identify highly correlated columns, then remove one of each correlated pair. This helps reduce redundancy and ensures the robustness of the regression model, preserving the independence of predictors while maintaining model interpretability and performance."
      ]
    },
    {
      "cell_type": "code",
      "execution_count": null,
      "id": "dc620619",
      "metadata": {
        "id": "dc620619"
      },
      "outputs": [],
      "source": [
        "threshold = 0.75  #set multicollinearity threshold to 75%\n",
        "upper = corr_matrix.where(np.triu(np.ones(corr_matrix.shape), k=1).astype(bool))\n",
        "to_drop = [column for column in upper.columns if any(upper[column] > threshold)]\n",
        "weather_data_filtered=weather_data.drop(to_drop, axis=1)"
      ]
    },
    {
      "cell_type": "code",
      "execution_count": null,
      "id": "8971d5c2",
      "metadata": {
        "id": "8971d5c2"
      },
      "outputs": [],
      "source": [
        "list(weather_data.columns) #CURRENT WEATHER COLUMNS"
      ]
    },
    {
      "cell_type": "code",
      "execution_count": null,
      "id": "ee526f3c",
      "metadata": {
        "id": "ee526f3c"
      },
      "outputs": [],
      "source": [
        "weather_data_filtered.head(10) #current dataframe"
      ]
    },
    {
      "cell_type": "code",
      "execution_count": null,
      "id": "3a4764b4",
      "metadata": {
        "id": "3a4764b4"
      },
      "outputs": [],
      "source": [
        "# another feature engineering CLOUD_BASE.We see that cloud_base_height_avg is the just the average of cloud_bases\n",
        "#so we can drop theother cloud_base features and focus on one.There are similar other features I show below\n",
        "def plot_min_max_avg(df,min_name,avg_name,max_name):\n",
        "\n",
        "    plt.plot(df[min_name], label=min_name)\n",
        "    plt.plot(weather_data_filtered[avg_name], label=avg_name)\n",
        "    plt.plot(weather_data_filtered[max_name], label=max_name)\n",
        "    plt.legend()\n",
        "\n"
      ]
    },
    {
      "cell_type": "code",
      "execution_count": null,
      "id": "fe8b0e44",
      "metadata": {
        "id": "fe8b0e44"
      },
      "outputs": [],
      "source": [
        "plot_min_max_avg(weather_data_filtered,'CLOUD_BASE_HEIGHT_24HR_DEP','CLOUD_BASE_HEIGHT_AVG','CLOUD_BASE_HEIGHT_MAX')"
      ]
    },
    {
      "cell_type": "code",
      "execution_count": null,
      "id": "c5c3fba5",
      "metadata": {
        "id": "c5c3fba5"
      },
      "outputs": [],
      "source": [
        "weather_data_filtered.drop(columns=['CLOUD_BASE_HEIGHT_24HR_DEP','CLOUD_BASE_HEIGHT_MAX'],inplace=True) #dropping similar features"
      ]
    },
    {
      "cell_type": "code",
      "execution_count": null,
      "id": "6d0ddc01",
      "metadata": {
        "id": "6d0ddc01"
      },
      "outputs": [],
      "source": [
        "plot_min_max_avg(weather_data_filtered,'CLOUD_COVER_24HR_DEP','CLOUD_COVER_AVG','CLOUD_COVER_MAX')#dropping more similar features"
      ]
    },
    {
      "cell_type": "code",
      "execution_count": null,
      "id": "ed3cc709",
      "metadata": {
        "id": "ed3cc709"
      },
      "outputs": [],
      "source": [
        "weather_data_filtered.drop(columns=['CLOUD_COVER_24HR_DEP','CLOUD_COVER_MAX','CLOUD_COVER_MIN'],inplace=True)#dropping similar columns"
      ]
    },
    {
      "cell_type": "code",
      "execution_count": null,
      "id": "57935101",
      "metadata": {
        "id": "57935101"
      },
      "outputs": [],
      "source": [
        "weather_data_filtered['DEGREE_DAYS_COOLING'].plot()#we see a seasonal trend in some of the features"
      ]
    },
    {
      "cell_type": "code",
      "execution_count": null,
      "id": "204a9544",
      "metadata": {
        "id": "204a9544"
      },
      "outputs": [],
      "source": [
        "weather_data_filtered['DEGREE_DAYS_EFFECTIVE'].plot()#seasonal trend"
      ]
    },
    {
      "cell_type": "markdown",
      "id": "4522d04f",
      "metadata": {
        "id": "4522d04f"
      },
      "source": [
        "# CATEGORICAL COUNTPLOTS VISUALIZATION"
      ]
    },
    {
      "cell_type": "markdown",
      "id": "8abf0aed",
      "metadata": {
        "id": "8abf0aed"
      },
      "source": [
        "###### WE SEE THE SKEWNESS FOR A LOT OF OUR FEATURES.THIS IS A REPRESENTATIVE OF THE REAL WEATHER NOT UNDERSAMPLING SINCE MOST PLACES DONOT HAVE FREEZING RAINS AND ICE FOR MOST OF THE YEAR AND HENCE NOT AN ISSUE.HOWEVER, THERE ARE MULTIPLE FEATURES REPRESENTING SIMILAR THINGS. FREEZING RAIN AND HAS_ICE HAVE SIMILAR VALUES BECAUSE THEY MOSTLY OCCUR DURING THE SAME TIME AND ARE VERY CORRELATED.WE REMOVE SOME OF THEM.HAS_SLEET HAS ONLY ONE VALUE AND HENCE COMPLETELY USELESS FOR OUR ANALYSIS"
      ]
    },
    {
      "cell_type": "code",
      "execution_count": null,
      "id": "2734f8c9",
      "metadata": {
        "id": "2734f8c9"
      },
      "outputs": [],
      "source": [
        "#PLOTTING CATEGORICAL VARIABLES COUNT PLOTS\n",
        "object_columns=weather_data_filtered[list(weather_data.select_dtypes(include=['object']).columns)]\n",
        "\n",
        "fig, axes = plt.subplots(nrows=3, ncols=2, figsize=(15, 20))\n",
        "\n",
        "# Loop through each column and create count plot\n",
        "for i, column in enumerate(object_columns.columns[1:-1]):\n",
        "    sns.countplot(data=object_columns, x=column, ax=axes[i//2, i%2])\n",
        "    axes[i//2, i%2].set_title(f'Count Plot for {column}')\n",
        "\n",
        "plt.tight_layout()\n",
        "plt.show()"
      ]
    },
    {
      "cell_type": "code",
      "execution_count": null,
      "id": "e8f5d70b",
      "metadata": {
        "id": "e8f5d70b"
      },
      "outputs": [],
      "source": [
        "object_columns.columns[1:] #ALL THE CATEGORICAL COLUMNS"
      ]
    },
    {
      "cell_type": "code",
      "execution_count": null,
      "id": "5eb5f3f3",
      "metadata": {
        "id": "5eb5f3f3"
      },
      "outputs": [],
      "source": [
        "#VISUALIZING SOME OF THESE VARIABLES WITH THE MONTH.CREATE THE MONTH FEATURE MANUALLY\n",
        "weather_data_filtered['month']=pd.DatetimeIndex(weather_data_filtered['DATE']).month\n",
        "month_mapping = {1: 'Jan', 2: 'Feb', 3: 'Mar', 4: 'Apr', 5: 'May', 6: 'Jun',\n",
        "                 7: 'Jul', 8: 'Aug', 9: 'Sep', 10: 'Oct', 11: 'Nov', 12: 'Dec'}\n",
        "weather_data_filtered['month'] = weather_data_filtered['month'].apply(lambda x: month_mapping.get(x, x))\n"
      ]
    },
    {
      "cell_type": "code",
      "execution_count": null,
      "id": "9ace136f",
      "metadata": {
        "id": "9ace136f"
      },
      "outputs": [],
      "source": [
        "#Shows the occurence of freezing rain during the year\n",
        "\n",
        "sns.countplot(data=weather_data_filtered, x='month', hue='HAS_FREEZING_RAIN')"
      ]
    },
    {
      "cell_type": "code",
      "execution_count": null,
      "id": "fcefd67c",
      "metadata": {
        "id": "fcefd67c"
      },
      "outputs": [],
      "source": [
        "#Shows the occurence of has ice during the year.EXACTLY THE SAME AS FREEZING RAIN.remove one of them!\n",
        "\n",
        "sns.countplot(data=weather_data_filtered, x='month', hue='HAS_ICE')\n"
      ]
    },
    {
      "cell_type": "code",
      "execution_count": null,
      "id": "c08730bb",
      "metadata": {
        "id": "c08730bb"
      },
      "outputs": [],
      "source": [
        "#Data shows that the place gets a lot of rain during the year.This can be important for mapping the environmental factors\n",
        "sns.countplot(data=weather_data_filtered, x='month', hue='HAS_RAIN')\n"
      ]
    },
    {
      "cell_type": "markdown",
      "id": "d13ea417",
      "metadata": {
        "id": "d13ea417"
      },
      "source": [
        "# We see that the plots for freezing rain and ice are pretty much the same!"
      ]
    },
    {
      "cell_type": "code",
      "execution_count": null,
      "id": "3a949976",
      "metadata": {
        "id": "3a949976"
      },
      "outputs": [],
      "source": [
        "sns.countplot(data=weather_data_filtered, x='month', hue='HAS_ICE')\n"
      ]
    },
    {
      "cell_type": "code",
      "execution_count": null,
      "id": "f3a08ed5",
      "metadata": {
        "id": "f3a08ed5"
      },
      "outputs": [],
      "source": [
        "sns.countplot(data=weather_data_filtered, x='month', hue='HAS_RAIN')\n"
      ]
    },
    {
      "cell_type": "code",
      "execution_count": null,
      "id": "ae0001d7",
      "metadata": {
        "id": "ae0001d7"
      },
      "outputs": [],
      "source": [
        "#dropping all the correlated columns or columns with no information gain.\n",
        "weather_data_filtered.drop(columns=['HAS_SLEET','PRECIPITATION_TYPE_DESC_PREDOMINANT','HAS_FREEZING_RAIN','SNOW_DRIFTING_INTENSITY_MAX'],inplace=True)"
      ]
    },
    {
      "cell_type": "code",
      "execution_count": null,
      "id": "749a9daf",
      "metadata": {
        "id": "749a9daf"
      },
      "outputs": [],
      "source": [
        "#perfect example of one column with no information gain since its only 0'S.\n",
        "weather_data_filtered['FREEZING_RAIN_LWE_RATE_MIN'].value_counts()"
      ]
    },
    {
      "cell_type": "markdown",
      "id": "87cf229d",
      "metadata": {
        "id": "87cf229d"
      },
      "source": [
        "# ONE HOT ENCODING CATEGORICAL VARIABLES"
      ]
    },
    {
      "cell_type": "code",
      "execution_count": null,
      "id": "c36565a8",
      "metadata": {
        "id": "c36565a8"
      },
      "outputs": [],
      "source": [
        "#converting categorical variables into one hot encoded forms\n",
        "object_columns = weather_data_filtered.select_dtypes(include=['object']).drop(columns=['month','DATE'])\n",
        "\n",
        "weather_data_encoded = pd.get_dummies(weather_data_filtered, columns=object_columns.columns)\n"
      ]
    },
    {
      "cell_type": "code",
      "execution_count": null,
      "id": "d032e202",
      "metadata": {
        "id": "d032e202"
      },
      "outputs": [],
      "source": [
        "weather_data_encoded.head(10)"
      ]
    },
    {
      "cell_type": "code",
      "execution_count": null,
      "id": "439cbf00",
      "metadata": {
        "id": "439cbf00"
      },
      "outputs": [],
      "source": [
        "weather_data_cols-set(weather_data.columns) #the current colu"
      ]
    },
    {
      "cell_type": "code",
      "execution_count": null,
      "id": "286f46a6",
      "metadata": {
        "id": "286f46a6"
      },
      "outputs": [],
      "source": [
        "weather_data.corr()"
      ]
    },
    {
      "cell_type": "code",
      "execution_count": null,
      "id": "ddf63426",
      "metadata": {
        "id": "ddf63426"
      },
      "outputs": [],
      "source": [
        "weather_data_encoded.isna().sum().nlargest(30)"
      ]
    },
    {
      "cell_type": "code",
      "execution_count": null,
      "id": "fa23beee",
      "metadata": {
        "id": "fa23beee"
      },
      "outputs": [],
      "source": [
        "weather_data['HAS_SLEET'].value_counts() #useless hence remove all sleets.gives away area does not have sleet usually\n"
      ]
    },
    {
      "cell_type": "code",
      "execution_count": null,
      "id": "8570677e",
      "metadata": {
        "id": "8570677e"
      },
      "outputs": [],
      "source": [
        "#exploring some of the nan values in these columns.shows percent empty in columns.\n",
        "empty_values_per_column[(empty_values_per_column<20)&(empty_values_per_column>5)]"
      ]
    },
    {
      "cell_type": "markdown",
      "id": "9fc8e378",
      "metadata": {
        "id": "9fc8e378"
      },
      "source": [
        "## EXPLORING PARK VISITOR TIME SERIES DATA"
      ]
    },
    {
      "cell_type": "code",
      "execution_count": null,
      "id": "cc39f93f",
      "metadata": {
        "id": "cc39f93f"
      },
      "outputs": [],
      "source": [
        "#using park_visits data\n",
        "park_visits.head()"
      ]
    },
    {
      "cell_type": "code",
      "execution_count": null,
      "id": "c1efa8b0",
      "metadata": {
        "id": "c1efa8b0"
      },
      "outputs": [],
      "source": [
        "park_visits['DATE'] = pd.to_datetime(park_visits['DATE']) #converting dates\n",
        "park_2 = park_visits.set_index('DATE').asfreq('D')\n"
      ]
    },
    {
      "cell_type": "code",
      "execution_count": null,
      "id": "5f6f071f",
      "metadata": {
        "id": "5f6f071f"
      },
      "outputs": [],
      "source": [
        "park_2['ESTIMATED_VISITS'].fillna(park_2['ESTIMATED_VISITS'].mean(),inplace=True) #imputing with mean"
      ]
    },
    {
      "cell_type": "code",
      "execution_count": null,
      "id": "be26b966",
      "metadata": {
        "id": "be26b966"
      },
      "outputs": [],
      "source": [
        "plt.plot(park_visits['ESTIMATED_VISITS']) #plotting the estimated visits.We see some seasonality in this plot."
      ]
    },
    {
      "cell_type": "code",
      "execution_count": null,
      "id": "1885381e",
      "metadata": {
        "id": "1885381e"
      },
      "outputs": [],
      "source": [
        "# This function is used to visualize the autocorrelation of a time series, which represents the correlation\n",
        "# between a series and a lagged version of itself at different time lags.\n",
        "#The plot helps in understanding the presence of patterns or dependencies within the time series data.\n",
        "fig = plot_acf(park_visits['ESTIMATED_VISITS'], lags=24)\n",
        "plt.xlabel('LAG')\n",
        "plt.ylabel('ACF')\n",
        "plt.show()"
      ]
    },
    {
      "cell_type": "code",
      "execution_count": null,
      "id": "63dd58d5",
      "metadata": {
        "id": "63dd58d5"
      },
      "outputs": [],
      "source": [
        "#USING ETS TO DECOMPOSE OUR TIME SERIES INTO TREND ,SEASONAL AND RESIDUAL PORTIONS.SHOWS CLEAR PRESENCE OF SEASONS.\n",
        "ets = seasonal_decompose(park_2, model='multiplicative')\n",
        "ets.plot();\n"
      ]
    },
    {
      "cell_type": "code",
      "execution_count": null,
      "id": "4560fe03",
      "metadata": {
        "id": "4560fe03"
      },
      "outputs": [],
      "source": [
        "#The code conducts an Augmented Dickey-Fuller test on the 'ESTIMATED_VISITS' time series data to assess its stationarity.\n",
        "#It prints the p-value associated with the test, indicating the likelihood of the data being non-stationary; if the p-value is below a significance level (e.g., 0.05), it suggests rejecting the null hypothesis of stationarity, indicating non-stationarity in the time series.\n",
        "result = adfuller(park_visits['ESTIMATED_VISITS'])\n",
        "print('p-value: %f' % result[1])\n"
      ]
    },
    {
      "cell_type": "code",
      "execution_count": null,
      "id": "20042f85",
      "metadata": {
        "id": "20042f85"
      },
      "outputs": [],
      "source": [
        "#ADDING A SEASON FEATURE TO OUR DATASET SINCE IT SHOWS STRONG SEASONALITY\n",
        "park_visits['month'] = park_visits['DATE'].dt.month\n"
      ]
    },
    {
      "cell_type": "code",
      "execution_count": null,
      "id": "32ff0f28",
      "metadata": {
        "id": "32ff0f28"
      },
      "outputs": [],
      "source": [
        "def find_season(val): #finds the season based on month number\n",
        "    if val in [1, 2, 12]:\n",
        "        return 4 #winter\n",
        "    elif val in [3, 4, 5]:\n",
        "        return 2 #spring\n",
        "    elif val in [6, 7, 8]:\n",
        "        return 1 #summer\n",
        "    elif val in [9, 10, 11]:\n",
        "        return 3 #fall"
      ]
    },
    {
      "cell_type": "code",
      "execution_count": null,
      "id": "31915a30",
      "metadata": {
        "id": "31915a30"
      },
      "outputs": [],
      "source": [
        "#Added a season feature\n",
        "park_visits['month_val']=park_visits['month'].apply(find_season)\n",
        "park_visits.head()"
      ]
    },
    {
      "cell_type": "code",
      "execution_count": null,
      "id": "bf728d7a",
      "metadata": {
        "id": "bf728d7a"
      },
      "outputs": [],
      "source": [
        "#we see that the highest number of visitors are during the summer and spring months\n",
        "\n",
        "sns.barplot(data=park_visits,x='month_val',y='ESTIMATED_VISITS')\n",
        "plt.xlabel('Month')\n",
        "plt.title('Estimated Visits to the Park by Month. 1 is summer ,2 is spring , 3 is fall , 4 is winter')\n"
      ]
    },
    {
      "cell_type": "code",
      "execution_count": null,
      "id": "11283526",
      "metadata": {
        "id": "11283526"
      },
      "outputs": [],
      "source": [
        "len(park_visits)"
      ]
    },
    {
      "cell_type": "code",
      "execution_count": null,
      "id": "0dd5d045",
      "metadata": {
        "id": "0dd5d045"
      },
      "outputs": [],
      "source": [
        "#dropping the column.not needed now\n",
        "park_visits['DATE'].max()\n",
        "park_visits.drop('month', axis=1, inplace=True)\n"
      ]
    },
    {
      "cell_type": "code",
      "execution_count": null,
      "id": "0961424b",
      "metadata": {
        "id": "0961424b"
      },
      "outputs": [],
      "source": [
        "#converting date\n",
        "weather_data_encoded['DATE']=pd.to_datetime(weather_data['DATE'])"
      ]
    },
    {
      "cell_type": "code",
      "execution_count": null,
      "id": "029ff957",
      "metadata": {
        "id": "029ff957"
      },
      "outputs": [],
      "source": [
        "#merging the 2 dataframes together .left join on park_visits\n",
        "merged_df = pd.merge(park_visits, weather_data_encoded, on='DATE', how='left')\n",
        "merged_df.head()"
      ]
    },
    {
      "cell_type": "code",
      "execution_count": null,
      "id": "966c0bc2",
      "metadata": {
        "id": "966c0bc2"
      },
      "outputs": [],
      "source": [
        "merged_df['month_val'].value_counts()"
      ]
    },
    {
      "cell_type": "markdown",
      "id": "aa66244a",
      "metadata": {
        "id": "aa66244a"
      },
      "source": [
        "# USING DECISION TREE FOR FEATURE ENGINEERING TO CALCULATE FEATURE IMPORTANCES"
      ]
    },
    {
      "cell_type": "markdown",
      "id": "882fdb7a",
      "metadata": {
        "id": "882fdb7a"
      },
      "source": [
        "#### In regression, decision trees provide information on feature importance by assessing how much each feature reduces the variance of the target variable across the splits. Features that result in larger reductions in variance are considered more important, as they contribute more to explaining the variance in the target variable."
      ]
    },
    {
      "cell_type": "code",
      "execution_count": null,
      "id": "bc55d9ec",
      "metadata": {
        "id": "bc55d9ec"
      },
      "outputs": [],
      "source": [
        "clf = DecisionTreeClassifier()\n",
        "merged_df=merged_df.dropna()\n",
        "X=merged_df.drop(['ESTIMATED_VISITS','DATE',],axis=1)\n",
        "Y=merged_df['ESTIMATED_VISITS']\n"
      ]
    },
    {
      "cell_type": "code",
      "execution_count": null,
      "id": "93c5ac75",
      "metadata": {
        "id": "93c5ac75"
      },
      "outputs": [],
      "source": [
        "X.head()"
      ]
    },
    {
      "cell_type": "code",
      "execution_count": null,
      "id": "bfa575a6",
      "metadata": {
        "id": "bfa575a6"
      },
      "outputs": [],
      "source": [
        "#Tree-based models such as Decision Trees, Random Forests, and Gradient Boosted Trees can be robust against outliers to some extent\n",
        "sns.boxplot(X['CLOUD_BASE_HEIGHT_AVG']) #SEE THE PRESENCE OUTLIERS."
      ]
    },
    {
      "cell_type": "code",
      "execution_count": null,
      "id": "20961fda",
      "metadata": {
        "id": "20961fda"
      },
      "outputs": [],
      "source": [
        "#creating a lag variable since we saw that there is some autocorrelation in our time series\n",
        "merged_df['lagged_estimated_visits']=merged_df['ESTIMATED_VISITS'].shift(1)"
      ]
    },
    {
      "cell_type": "code",
      "execution_count": null,
      "id": "6d367cff",
      "metadata": {
        "id": "6d367cff"
      },
      "outputs": [],
      "source": [
        "merged_df.head()"
      ]
    },
    {
      "cell_type": "code",
      "execution_count": null,
      "id": "9936ddb1",
      "metadata": {
        "id": "9936ddb1"
      },
      "outputs": [],
      "source": [
        "#fill empty rows with means.We cannot leave time series values empty or we will need to resample.\n",
        "merged_df['lagged_estimated_visits'].fillna(merged_df['lagged_estimated_visits'].mean(), inplace=True)\n"
      ]
    },
    {
      "cell_type": "code",
      "execution_count": null,
      "id": "04347961",
      "metadata": {
        "id": "04347961"
      },
      "outputs": [],
      "source": [
        "X.drop(['month'],axis=1,inplace=True)"
      ]
    },
    {
      "cell_type": "code",
      "execution_count": null,
      "id": "deadb688",
      "metadata": {
        "id": "deadb688"
      },
      "outputs": [],
      "source": [
        "#using decision tree for feature importances\n",
        "clf = DecisionTreeClassifier()\n",
        "merged_df=merged_df.dropna()\n",
        "\n",
        "clf.fit(X, Y)\n"
      ]
    },
    {
      "cell_type": "code",
      "execution_count": null,
      "id": "57299ccf",
      "metadata": {
        "id": "57299ccf"
      },
      "outputs": [],
      "source": [
        "#getting the top features based on importances\n",
        "feature_importances = clf.feature_importances_\n",
        "top_indices = np.argsort(feature_importances)[::-1][feature_importances > 0.02]\n",
        "\n",
        "top_indices"
      ]
    },
    {
      "cell_type": "code",
      "execution_count": null,
      "id": "d54e958e",
      "metadata": {
        "id": "d54e958e"
      },
      "outputs": [],
      "source": [
        "#all important columns.choosing just 12 of the features\n",
        "important_cols=list(X.columns[top_indices])[:12]"
      ]
    },
    {
      "cell_type": "code",
      "execution_count": null,
      "id": "ef210e75",
      "metadata": {
        "id": "ef210e75"
      },
      "outputs": [],
      "source": [
        "plt.bar(range(len(feature_importances)), feature_importances)\n",
        "plt.xlabel('Feature Index')\n",
        "plt.ylabel('Feature Importance')\n",
        "plt.title('Feature Importances')\n",
        "plt.show()"
      ]
    },
    {
      "cell_type": "code",
      "execution_count": null,
      "id": "d1e0d98c",
      "metadata": {
        "id": "d1e0d98c"
      },
      "outputs": [],
      "source": [
        "#WE SEE THAT MONTH VAL WHICH SHOWS THE SEASON HAS A BIG CORRELATION WITH ESTIMATED VISITS\n",
        "important_cols.append('month_val')\n",
        "important_cols.append('ESTIMATED_VISITS')\n",
        "sns.heatmap(merged_df[important_cols].corr().abs(),annot=True)"
      ]
    },
    {
      "cell_type": "code",
      "execution_count": null,
      "id": "91a2aa51",
      "metadata": {
        "id": "91a2aa51"
      },
      "outputs": [],
      "source": [
        "removal=important_cols.pop()\n",
        "removal"
      ]
    },
    {
      "cell_type": "code",
      "execution_count": null,
      "id": "d714b897",
      "metadata": {
        "id": "d714b897"
      },
      "outputs": [],
      "source": [
        "plt.bar(range(len(feature_importances)), feature_importances)\n",
        "plt.xlabel('Feature Index')\n",
        "plt.ylabel('Feature Importance')\n",
        "plt.title('Feature Importances')\n",
        "plt.show()"
      ]
    },
    {
      "cell_type": "markdown",
      "id": "75902431",
      "metadata": {
        "id": "75902431"
      },
      "source": [
        "# MODELS USED BELOW ->DECISION TREE ,RANDOM FORESTS,XGBOOST,LGBM,XGBOOST WITH GRDISEARCHCV\n"
      ]
    },
    {
      "cell_type": "markdown",
      "id": "1c41aaae",
      "metadata": {
        "id": "1c41aaae"
      },
      "source": [
        "#### Tree-based models, such as Random Forests and Gradient Boosting Machines (including XGBoost, LightGBM, and CatBoost), are advantageous for time series forecasting due to their ability to capture non-linear relationships, handle multicollinearity, provide feature importance, robustness to outliers and missing data, scalability, and interpretability. These models excel in capturing complex patterns inherent in time series data while remaining interpretable"
      ]
    },
    {
      "cell_type": "code",
      "execution_count": null,
      "id": "2c399cff",
      "metadata": {
        "id": "2c399cff"
      },
      "outputs": [],
      "source": [
        "X_a=merged_df[important_cols] #popping to remove estimated visits\n",
        "Y_a=merged_df['ESTIMATED_VISITS']\n",
        "\n",
        "len(Y_a)"
      ]
    },
    {
      "cell_type": "code",
      "execution_count": null,
      "id": "d50233c2",
      "metadata": {
        "id": "d50233c2"
      },
      "outputs": [],
      "source": [
        "X.head(10)"
      ]
    },
    {
      "cell_type": "code",
      "execution_count": null,
      "id": "22b63b3d",
      "metadata": {
        "id": "22b63b3d"
      },
      "outputs": [],
      "source": [
        "#creating a 80-20 split.Since this is a time series,we cannot have a random split but have a time frame instead.\n",
        "half_80=int(len(X_a)*(0.8))\n",
        "test_size=len(X_a)-(half_80)\n",
        "X_train=X_a.iloc[:half_80]\n",
        "X_test=X_a.iloc[half_80:]\n",
        "Y_test=Y_a[X_test.index]\n",
        "Y_train=Y_a[X_train.index]\n",
        "X_test"
      ]
    },
    {
      "cell_type": "code",
      "execution_count": null,
      "id": "f2810275",
      "metadata": {
        "id": "f2810275"
      },
      "outputs": [],
      "source": [
        "#DECISION TREE CLASSIFIER.OUR BASELINE ESTIMATOR\n",
        "clf2 = DecisionTreeClassifier()\n",
        "clf2.fit(X_train, Y_train)\n",
        "y_pred_clf = clf2.predict(X_test)\n",
        "plt.plot(y_pred_clf,label='DT REGRESSOR',color='blue')\n",
        "plt.plot(Y_test.values,label='REAL DATA',color='red')\n",
        "plt.legend()"
      ]
    },
    {
      "cell_type": "code",
      "execution_count": null,
      "id": "72a6ae0c",
      "metadata": {
        "id": "72a6ae0c"
      },
      "outputs": [],
      "source": [
        "mae_ = mae(Y_test, y_pred_clf) #BASELINE MEAN AVERAGE ERROR OF 2455.04\n",
        "mae_"
      ]
    },
    {
      "cell_type": "code",
      "execution_count": null,
      "id": "28b3cd16",
      "metadata": {
        "id": "28b3cd16"
      },
      "outputs": [],
      "source": [
        "clf_rf = RandomForestClassifier() #RANDOM FOREST CLASSIFIER\n",
        "clf_rf.fit(X_train, Y_train)\n",
        "y_pred_rf = clf_rf.predict(X_test)\n",
        "plt.plot(y_pred_rf,label='RANDOM FOREST REGRESSOR',color='blue')\n",
        "plt.plot(Y_test.values,label='REAL DATA',color='red')\n",
        "plt.legend()"
      ]
    },
    {
      "cell_type": "code",
      "execution_count": null,
      "id": "6c242316",
      "metadata": {
        "id": "6c242316"
      },
      "outputs": [],
      "source": [
        "mae_4 = mae(Y_test, y_pred_rf) #RANDOM FOREST CLASSIFIER MASSIVE IMPROVEMENT ON DECISION TREE MAE.\n",
        "mae_4"
      ]
    },
    {
      "cell_type": "code",
      "execution_count": null,
      "id": "6d52ffcc",
      "metadata": {
        "id": "6d52ffcc"
      },
      "outputs": [],
      "source": [
        "#LIGHT GRADIENT BOOSTING->LightGBM works by using a histogram-based approach to bin continuous features,\n",
        "#efficiently splitting nodes in trees based on the gradient of the loss function.\n",
        "params = {'n_estimators': 400,'max_depth': 8}\n",
        "\n",
        "model_lgb = lgb.LGBMRegressor()\n",
        "model_lgb = model_lgb.fit(X_train, Y_train)\n"
      ]
    },
    {
      "cell_type": "code",
      "execution_count": null,
      "id": "95369c24",
      "metadata": {
        "id": "95369c24"
      },
      "outputs": [],
      "source": [
        "\n",
        "y_pred_lgb = model_lgb.predict(X_test)\n",
        "plt.plot(y_pred_lgb,label='LGB REGRESSOR',color='blue')\n",
        "plt.plot(Y_test.values,label='REAL DATA',color='red')\n",
        "plt.legend()"
      ]
    },
    {
      "cell_type": "code",
      "execution_count": null,
      "id": "e49eb095",
      "metadata": {
        "id": "e49eb095"
      },
      "outputs": [],
      "source": [
        "mae_1 = mae(Y_test, y_pred_lgb) #MAE SHOWS IMPROVEMENT ON RANDOM FOREST ENSEMBLE\n",
        "mae_1"
      ]
    },
    {
      "cell_type": "code",
      "execution_count": null,
      "id": "7f5f3122",
      "metadata": {
        "id": "7f5f3122"
      },
      "outputs": [],
      "source": [
        "reg = xgb.XGBRegressor(max_depth=2)#XGBOOST->very popular in regression competitions"
      ]
    },
    {
      "cell_type": "code",
      "execution_count": null,
      "id": "3c4bb83c",
      "metadata": {
        "id": "3c4bb83c"
      },
      "outputs": [],
      "source": [
        "reg.fit(X_train, Y_train)"
      ]
    },
    {
      "cell_type": "code",
      "execution_count": null,
      "id": "e013446a",
      "metadata": {
        "id": "e013446a"
      },
      "outputs": [],
      "source": [
        "y_pred_reg= reg.predict(X_test)\n",
        "plt.plot(y_pred_reg,label='XGB REGRESSOR',color='blue')\n",
        "plt.plot(Y_test.values,label='REAL DATA',color='red')\n",
        "plt.legend()"
      ]
    },
    {
      "cell_type": "code",
      "execution_count": null,
      "id": "ba3da003",
      "metadata": {
        "id": "ba3da003"
      },
      "outputs": [],
      "source": [
        "mae_2 = mae(Y_test, y_pred_reg) #almost the same as LGBM FOR THE XGBM\n",
        "mae_2"
      ]
    },
    {
      "cell_type": "code",
      "execution_count": null,
      "id": "dfe261a4",
      "metadata": {
        "id": "dfe261a4"
      },
      "outputs": [],
      "source": [
        "xgb_model_tuned = xgb.XGBRegressor() #USING XGBOOST WITH TUNING USING GRIDSEARCH CV\n",
        "\n",
        "# Define the hyperparameters grid\n",
        "param_grid = {\n",
        "    'max_depth': [3, 5, 7,10],\n",
        "    'learning_rate': [0.1, 0.01, 0.001],\n",
        "    'n_estimators': [10,100, 200, 300],\n",
        "    'gamma': [0, 0.1, 0.2,0.3]\n",
        "}\n",
        "\n",
        "# Perform grid search with cross-validation\n",
        "grid_search = GridSearchCV(estimator=xgb_model_tuned, param_grid=param_grid, cv=5, scoring='neg_mean_squared_error')\n",
        "grid_search.fit(X_train, Y_train)\n",
        "\n",
        "# Get the best hyperparameters and the best score\n",
        "best_params = grid_search.best_params_\n",
        "best_score = grid_search.best_score_"
      ]
    },
    {
      "cell_type": "code",
      "execution_count": null,
      "id": "1bbd7cbf",
      "metadata": {
        "id": "1bbd7cbf"
      },
      "outputs": [],
      "source": [
        "best_params"
      ]
    },
    {
      "cell_type": "code",
      "execution_count": null,
      "id": "300350ce",
      "metadata": {
        "id": "300350ce"
      },
      "outputs": [],
      "source": [
        "y_preds_tuned=grid_search.predict(X_test)"
      ]
    },
    {
      "cell_type": "code",
      "execution_count": null,
      "id": "7b840016",
      "metadata": {
        "id": "7b840016"
      },
      "outputs": [],
      "source": [
        "plt.plot(y_preds_tuned,label='XG BOOST TUNED REGRESSOR',color='blue')\n",
        "plt.plot(Y_test.values,label='REAL DATA',color='red')\n",
        "plt.legend()"
      ]
    },
    {
      "cell_type": "code",
      "execution_count": null,
      "id": "8712517e",
      "metadata": {
        "id": "8712517e"
      },
      "outputs": [],
      "source": [
        "mae(Y_test, y_preds_tuned)#no improvement necessarily"
      ]
    },
    {
      "cell_type": "code",
      "execution_count": null,
      "id": "e8d2abf6",
      "metadata": {
        "id": "e8d2abf6"
      },
      "outputs": [],
      "source": []
    }
  ],
  "metadata": {
    "kernelspec": {
      "display_name": "Python 3 (ipykernel)",
      "language": "python",
      "name": "python3"
    },
    "language_info": {
      "codemirror_mode": {
        "name": "ipython",
        "version": 3
      },
      "file_extension": ".py",
      "mimetype": "text/x-python",
      "name": "python",
      "nbconvert_exporter": "python",
      "pygments_lexer": "ipython3",
      "version": "3.9.18"
    },
    "colab": {
      "provenance": [],
      "include_colab_link": true
    }
  },
  "nbformat": 4,
  "nbformat_minor": 5
}